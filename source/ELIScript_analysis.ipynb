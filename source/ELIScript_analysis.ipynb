{
 "cells": [
  {
   "cell_type": "markdown",
   "metadata": {
    "toc": true
   },
   "source": [
    "<h1>Table of Contents<span class=\"tocSkip\"></span></h1>\n",
    "<div class=\"toc\"><ul class=\"toc-item\"><li><span><a href=\"#DOCUMENT-TYPES-ANALYSIS\" data-toc-modified-id=\"DOCUMENT-TYPES-ANALYSIS-1\"><span class=\"toc-item-num\">1&nbsp;&nbsp;</span>DOCUMENT TYPES ANALYSIS</a></span><ul class=\"toc-item\"><li><span><a href=\"#Importing-libraries\" data-toc-modified-id=\"Importing-libraries-1.1\"><span class=\"toc-item-num\">1.1&nbsp;&nbsp;</span>Importing libraries</a></span></li><li><span><a href=\"#Functions\" data-toc-modified-id=\"Functions-1.2\"><span class=\"toc-item-num\">1.2&nbsp;&nbsp;</span>Functions</a></span></li><li><span><a href=\"#Organizing-Data\" data-toc-modified-id=\"Organizing-Data-1.3\"><span class=\"toc-item-num\">1.3&nbsp;&nbsp;</span>Organizing Data</a></span></li><li><span><a href=\"#Plotting-Charts\" data-toc-modified-id=\"Plotting-Charts-1.4\"><span class=\"toc-item-num\">1.4&nbsp;&nbsp;</span>Plotting Charts</a></span><ul class=\"toc-item\"><li><span><a href=\"#Total-Types-of-Documents-for-Each-DataFrame\" data-toc-modified-id=\"Total-Types-of-Documents-for-Each-DataFrame-1.4.1\"><span class=\"toc-item-num\">1.4.1&nbsp;&nbsp;</span><strong><em>Total Types of Documents for Each DataFrame</em></strong></a></span></li><li><span><a href=\"#Total-Types-of-Documents-Worlwide\" data-toc-modified-id=\"Total-Types-of-Documents-Worlwide-1.4.2\"><span class=\"toc-item-num\">1.4.2&nbsp;&nbsp;</span><strong><em>Total Types of Documents Worlwide</em></strong></a></span></li><li><span><a href=\"#Stacked-Barplot-Chart\" data-toc-modified-id=\"Stacked-Barplot-Chart-1.4.3\"><span class=\"toc-item-num\">1.4.3&nbsp;&nbsp;</span><strong><em>Stacked Barplot Chart</em></strong></a></span></li></ul></li></ul></li><li><span><a href=\"#DEPOSIT-DATE-ANALYSIS\" data-toc-modified-id=\"DEPOSIT-DATE-ANALYSIS-2\"><span class=\"toc-item-num\">2&nbsp;&nbsp;</span>DEPOSIT DATE ANALYSIS</a></span><ul class=\"toc-item\"><li><span><a href=\"#Organizing-Data\" data-toc-modified-id=\"Organizing-Data-2.1\"><span class=\"toc-item-num\">2.1&nbsp;&nbsp;</span>Organizing Data</a></span></li><li><span><a href=\"#Plotting-Charts\" data-toc-modified-id=\"Plotting-Charts-2.2\"><span class=\"toc-item-num\">2.2&nbsp;&nbsp;</span>Plotting Charts</a></span><ul class=\"toc-item\"><li><span><a href=\"#Year-of-Document's-Deposit-for-each-Continent-DataFrame\" data-toc-modified-id=\"Year-of-Document's-Deposit-for-each-Continent-DataFrame-2.2.1\"><span class=\"toc-item-num\">2.2.1&nbsp;&nbsp;</span><strong><em>Year of Document's Deposit for each Continent DataFrame</em></strong></a></span></li><li><span><a href=\"#Deposit-date-comparison-between-continents\" data-toc-modified-id=\"Deposit-date-comparison-between-continents-2.2.2\"><span class=\"toc-item-num\">2.2.2&nbsp;&nbsp;</span><strong><em>Deposit date comparison between continents</em></strong></a></span></li></ul></li></ul></li><li><span><a href=\"#VER-SE-CONSEGUE-DIMINUIR-O-XTICKS-PARA-PULAR-DE-2-EM-2-ANOS-NO-GRÁFICO\" data-toc-modified-id=\"VER-SE-CONSEGUE-DIMINUIR-O-XTICKS-PARA-PULAR-DE-2-EM-2-ANOS-NO-GRÁFICO-3\"><span class=\"toc-item-num\">3&nbsp;&nbsp;</span>VER SE CONSEGUE DIMINUIR O XTICKS PARA PULAR DE 2 EM 2 ANOS NO GRÁFICO</a></span><ul class=\"toc-item\"><li><ul class=\"toc-item\"><li><span><a href=\"#Logaritimic-Deposit-Date-comparison-between-continents\" data-toc-modified-id=\"Logaritimic-Deposit-Date-comparison-between-continents-3.0.1\"><span class=\"toc-item-num\">3.0.1&nbsp;&nbsp;</span><strong><em>Logaritimic Deposit Date comparison between continents</em></strong></a></span></li></ul></li></ul></li><li><span><a href=\"#YEAR-OF-PUBLICATION-ANALYSIS\" data-toc-modified-id=\"YEAR-OF-PUBLICATION-ANALYSIS-4\"><span class=\"toc-item-num\">4&nbsp;&nbsp;</span>YEAR OF PUBLICATION ANALYSIS</a></span><ul class=\"toc-item\"><li><span><a href=\"#Organizing-Data\" data-toc-modified-id=\"Organizing-Data-4.1\"><span class=\"toc-item-num\">4.1&nbsp;&nbsp;</span>Organizing Data</a></span></li><li><span><a href=\"#Plotting-Charts\" data-toc-modified-id=\"Plotting-Charts-4.2\"><span class=\"toc-item-num\">4.2&nbsp;&nbsp;</span>Plotting Charts</a></span><ul class=\"toc-item\"><li><span><a href=\"#Year-of-Publication-for-each-Continent-DataFrame\" data-toc-modified-id=\"Year-of-Publication-for-each-Continent-DataFrame-4.2.1\"><span class=\"toc-item-num\">4.2.1&nbsp;&nbsp;</span><strong><em>Year of Publication for each Continent DataFrame</em></strong></a></span></li><li><span><a href=\"#Publication-date-comparison-between-continents\" data-toc-modified-id=\"Publication-date-comparison-between-continents-4.2.2\"><span class=\"toc-item-num\">4.2.2&nbsp;&nbsp;</span><strong><em>Publication date comparison between continents</em></strong></a></span></li><li><span><a href=\"#Logaritimic-Publication-Date-comparison-between-continents\" data-toc-modified-id=\"Logaritimic-Publication-Date-comparison-between-continents-4.2.3\"><span class=\"toc-item-num\">4.2.3&nbsp;&nbsp;</span><strong><em>Logaritimic Publication Date comparison between continents</em></strong></a></span></li></ul></li></ul></li><li><span><a href=\"#SUBJECT-ANALYSIS\" data-toc-modified-id=\"SUBJECT-ANALYSIS-5\"><span class=\"toc-item-num\">5&nbsp;&nbsp;</span>SUBJECT ANALYSIS</a></span><ul class=\"toc-item\"><li><span><a href=\"#Organizing-Data\" data-toc-modified-id=\"Organizing-Data-5.1\"><span class=\"toc-item-num\">5.1&nbsp;&nbsp;</span>Organizing Data</a></span></li><li><span><a href=\"#Plotting-charts\" data-toc-modified-id=\"Plotting-charts-5.2\"><span class=\"toc-item-num\">5.2&nbsp;&nbsp;</span>Plotting charts</a></span><ul class=\"toc-item\"><li><span><a href=\"#Documents-Subjects-by-Each-Continent\" data-toc-modified-id=\"Documents-Subjects-by-Each-Continent-5.2.1\"><span class=\"toc-item-num\">5.2.1&nbsp;&nbsp;</span><strong><em>Documents Subjects by Each Continent</em></strong></a></span></li></ul></li></ul></li><li><span><a href=\"#LANGUAGE-ANALYSIS\" data-toc-modified-id=\"LANGUAGE-ANALYSIS-6\"><span class=\"toc-item-num\">6&nbsp;&nbsp;</span>LANGUAGE ANALYSIS</a></span><ul class=\"toc-item\"><li><span><a href=\"#Organizing-Data\" data-toc-modified-id=\"Organizing-Data-6.1\"><span class=\"toc-item-num\">6.1&nbsp;&nbsp;</span>Organizing Data</a></span></li><li><span><a href=\"#Plotting-Charts\" data-toc-modified-id=\"Plotting-Charts-6.2\"><span class=\"toc-item-num\">6.2&nbsp;&nbsp;</span>Plotting Charts</a></span><ul class=\"toc-item\"><li><span><a href=\"#Document-Languages-Worldwide\" data-toc-modified-id=\"Document-Languages-Worldwide-6.2.1\"><span class=\"toc-item-num\">6.2.1&nbsp;&nbsp;</span><strong><em>Document Languages Worldwide</em></strong></a></span></li><li><span><a href=\"#Document-Languages-Analysis-for-Each-Continent\" data-toc-modified-id=\"Document-Languages-Analysis-for-Each-Continent-6.2.2\"><span class=\"toc-item-num\">6.2.2&nbsp;&nbsp;</span><strong><em>Document Languages Analysis for Each Continent</em></strong></a></span></li></ul></li></ul></li><li><span><a href=\"#Fazer-uma-matriz-de-correlação-assunto-x-ano\" data-toc-modified-id=\"Fazer-uma-matriz-de-correlação-assunto-x-ano-7\"><span class=\"toc-item-num\">7&nbsp;&nbsp;</span>Fazer uma matriz de correlação assunto x ano</a></span></li></ul></div>"
   ]
  },
  {
   "cell_type": "markdown",
   "metadata": {},
   "source": [
    "**E-LIS DATA ANALYSIS**\n",
    "\n",
    "Analysis will be carried out by using Python programming language, version 3.7.3."
   ]
  },
  {
   "cell_type": "markdown",
   "metadata": {},
   "source": [
    "**COLUNAS IMPORTANTES PARA A ANÁLISE**\n",
    "\n",
    "\n",
    "`eprintid \teprint_status \tdatestamp \ttype \tmetadata_visibility \tcreators_name.family \tcreators_name.given \ttitle \tispublished \tsubjects \tdivisions \tfull_text_status \tmonograph_type \tpres_type \tkeywords \tabstract \tdate \tpublication \tpublisher \tplace_of_pub \tevent_title \tevent_location \tevent_dates \tevent_type \trefereed book_title \teditors_name.family \teditors_name.given \tdata_type \tcopyright_holders \tlinkdata \tconference \tconfloc \tlinguabib \tpubdom \tcountries \thandle`"
   ]
  },
  {
   "cell_type": "markdown",
   "metadata": {},
   "source": [
    "# DOCUMENT TYPES ANALYSIS\n",
    "\n",
    "In this section, charts will be plotted."
   ]
  },
  {
   "cell_type": "markdown",
   "metadata": {},
   "source": [
    "## Importing libraries"
   ]
  },
  {
   "cell_type": "code",
   "execution_count": 1,
   "metadata": {},
   "outputs": [],
   "source": [
    "import pandas as pd\n",
    "import numpy as np\n",
    "import matplotlib.pyplot as plt\n",
    "import os\n",
    "\n",
    "from matplotlib import rc\n",
    "\n",
    "import collections\n",
    "from collections import Counter\n",
    "\n",
    "import random\n",
    "\n",
    "from palettable.cartocolors.qualitative import Prism_10\n",
    "from palettable.cartocolors.qualitative import Vivid_10\n",
    "\n",
    "# Visualization options for spreadsheets\n",
    "\n",
    "pd.set_option('display.max_columns', 1000) \n",
    "#pd.set_option('display.max_rows', 1000)"
   ]
  },
  {
   "cell_type": "markdown",
   "metadata": {},
   "source": [
    "## Functions"
   ]
  },
  {
   "cell_type": "code",
   "execution_count": 2,
   "metadata": {},
   "outputs": [],
   "source": [
    "def read_csv_data(names):\n",
    "    \"\"\" This function reads csv data.\n",
    "    \n",
    "    Parameters\n",
    "    ----------\n",
    "        names : list of str \n",
    "            names of the files, ex: [\"africa.csv\"]\n",
    "    \n",
    "    Returns\n",
    "    -------\n",
    "        filenames : list of csv files on its path.\n",
    "    \"\"\"   \n",
    "    \n",
    "    # Path where all csv files are located \n",
    "    \n",
    "    p1 = os.getcwd() \n",
    "    path = os.path.dirname(p1)\n",
    "    wdir = os.path.join(path, \"db\", \"\")\n",
    "        \n",
    "    filenames = sorted([wdir + x for x in names])\n",
    "    \n",
    "    return filenames\n",
    "\n",
    "\n",
    "def count_doc_type_values(filenames, dict_typology):\n",
    "    \"\"\" This function reads csv files on its path, count values of each document type and\n",
    "    append these values to count_type_list.\n",
    "    \n",
    "    Parameters\n",
    "    ----------\n",
    "        filenames : list of csv files on its path.\n",
    "        \n",
    "    Returns\n",
    "    -------\n",
    "        count_type_list : list of DataFrames with values count for each document type.\n",
    "    \"\"\"   \n",
    "    \n",
    "    count_type_list = []\n",
    "    \n",
    "    for filename in filenames:\n",
    "        \n",
    "        file = pd.read_csv(filename)\n",
    "        \n",
    "        file = file.replace(dict_typology)\n",
    "\n",
    "        count_doc_type = file['type'].value_counts()\n",
    "\n",
    "        count_type_list.append(count_doc_type)\n",
    "        \n",
    "    return count_type_list\n",
    "    \n",
    "\n",
    "def get_max_doc_type(count_type_list, names):\n",
    "    \n",
    "    \"\"\" This function checks which list has the biggest lenght, that is, contains the most types of documents.\n",
    "    \n",
    "    Parameters\n",
    "    ----------\n",
    "        count_type_list : list of DataFrames.            \n",
    "        names : list of str \n",
    "            names of the files, ex: [\"africa.csv\"]\n",
    "        \n",
    "    Returns\n",
    "    -------\n",
    "        indice : integer.\n",
    "            index of the string in list 'names'.\n",
    "    \"\"\"   \n",
    "    \n",
    "    ## Checar qual a maior lista de tipos de documentos\n",
    "\n",
    "    maior = 0\n",
    "    indice = 0\n",
    "\n",
    "    for enum, df in enumerate(count_type_list):\n",
    "        tamanho = len(df)\n",
    "        if tamanho > maior:\n",
    "            maior = tamanho\n",
    "            indice = enum\n",
    "\n",
    "    string = \"Maior indice é {}, do csv {}, observe: \\n{}\".format(indice, names[indice], count_type_list[indice])\n",
    "    print(string)\n",
    "    \n",
    "    return indice\n",
    "\n",
    "def check_doc_type(count_type_list, indice):\n",
    "    \"\"\" This function checks if DataFrames' indexes in count_type_list are all contained in the larger list.\n",
    "    \n",
    "    Parameters\n",
    "    ----------\n",
    "        count_type_list : list of DataFrames.\n",
    "        indice : integer.\n",
    "            index of the string in list 'names'.\n",
    "        \n",
    "    Returns\n",
    "    -------\n",
    "        no value\n",
    "    \"\"\"  \n",
    "    ## Checar se os valores das outras listas de tipo de documento estão todos contidos na lista maior\n",
    "\n",
    "    max_doc_type = sorted(count_type_list[indice].index)\n",
    "\n",
    "    for df in count_type_list:\n",
    "        df_doc_type = sorted(df.index)\n",
    "\n",
    "        for doc in df_doc_type:\n",
    "            if doc not in max_doc_type:\n",
    "                print(\"Document is not in the list: \", doc)\n",
    "\n",
    "    print(\"All documents are in the list.\")\n",
    "\n",
    "\n",
    "## Completar todas as listas com todos os tipos de documentos vistos na maior lista\n",
    "# Converti de lista para dicionário todos as listas de tipo de documento\n",
    "\n",
    "def fill_doc_types_missing(count_type_list):\n",
    "    \"\"\" This function fills dictionary with document types missing and equals it to 0, {key : 0}\n",
    "    \n",
    "    Parameters\n",
    "    ----------\n",
    "        count_type_list : list of pandas Series\n",
    "            list containing counting of document types\n",
    "        \n",
    "    Returns\n",
    "    -------\n",
    "        count_type_lst_dict: list of dict\n",
    "            list containing dictionaries with document types and correspondent values.\n",
    "    \"\"\"   \n",
    "\n",
    "    count_type_lst_dict = []\n",
    "\n",
    "    for df in count_type_list:\n",
    "\n",
    "        doc_dict = {}\n",
    "\n",
    "        doc_type = df.index\n",
    "        doc_value = df\n",
    "\n",
    "        for key, value in zip(doc_type, doc_value):\n",
    "\n",
    "            doc_dict[key] = value\n",
    "\n",
    "        count_type_lst_dict.append(doc_dict)\n",
    "\n",
    "    # Preenchi os dicionarios com os tipos de documentos que não existiam neles\n",
    "    indices = count_type_lst_dict[2].keys() # maior de todos\n",
    "\n",
    "    for df in count_type_lst_dict:\n",
    "        for key in indices:\n",
    "            if key not in df.keys():\n",
    "                df[key] = 0\n",
    "    \n",
    "    return count_type_lst_dict"
   ]
  },
  {
   "cell_type": "markdown",
   "metadata": {},
   "source": [
    "## Organizing Data"
   ]
  },
  {
   "cell_type": "code",
   "execution_count": 3,
   "metadata": {},
   "outputs": [],
   "source": [
    "typology_dict = {\n",
    "    \"bibliography\" : \"Bibliografia\",\n",
    "    \"book\" : \"Livro\",\n",
    "    \"bookchapter\" : \"Capítulo de livro\",\n",
    "    \"confpaper\" : \"Artigo de conferência\",\n",
    "    \"confposter\" : \"Pôster de conferência\",\n",
    "    \"dataset\" : \"Conjunto de dados\",\n",
    "    \"deptechreport\" : \"Relatório técnico departamental\",\n",
    "    \"guide\" : \"Guia / manual\",\n",
    "    \"instrlis\" : \"Material instrucional de biblioteca\",\n",
    "    \"journale\" : \"Artigo de periódico sem paginação\",\n",
    "    \"journalp\" : \"Artigo de periódico paginado\",\n",
    "    \"newsarticle\" : \"Matéria de jornal/revista\",\n",
    "    \"other\" : \"Outro\",\n",
    "    \"preprint\" : \"Preprint\",\n",
    "    \"presentation\" : \"Apresentação\",\n",
    "    \"proceedings\" : \"Anais de evento\",\n",
    "    \"project\" : \"Projeto / Plano de negócios\",\n",
    "    \"report\" : \"Relatório\",\n",
    "    \"review\" : \"Revisão de literatura\",\n",
    "    \"techreport\" : \"Relatório técnico\",\n",
    "    \"thesis\" : \"Tese/Dissertação\",\n",
    "    \"tutorial\" : \"Tutorial\"\n",
    "}"
   ]
  },
  {
   "cell_type": "code",
   "execution_count": 4,
   "metadata": {
    "scrolled": true
   },
   "outputs": [
    {
     "name": "stderr",
     "output_type": "stream",
     "text": [
      "/home/sarah/anaconda3/lib/python3.8/site-packages/IPython/core/interactiveshell.py:3263: DtypeWarning: Columns (73,131,136) have mixed types.Specify dtype option on import or set low_memory=False.\n",
      "  if (await self.run_code(code, result,  async_=asy)):\n",
      "/home/sarah/anaconda3/lib/python3.8/site-packages/IPython/core/interactiveshell.py:3263: DtypeWarning: Columns (5,50,56,59,62,70,74,79,81,123,125,131,136) have mixed types.Specify dtype option on import or set low_memory=False.\n",
      "  if (await self.run_code(code, result,  async_=asy)):\n",
      "/home/sarah/anaconda3/lib/python3.8/site-packages/IPython/core/interactiveshell.py:3263: DtypeWarning: Columns (50,62,70,79,123) have mixed types.Specify dtype option on import or set low_memory=False.\n",
      "  if (await self.run_code(code, result,  async_=asy)):\n",
      "/home/sarah/anaconda3/lib/python3.8/site-packages/IPython/core/interactiveshell.py:3263: DtypeWarning: Columns (62,70,74,123,131,136) have mixed types.Specify dtype option on import or set low_memory=False.\n",
      "  if (await self.run_code(code, result,  async_=asy)):\n"
     ]
    }
   ],
   "source": [
    "names = [\"africa.csv\", \"antarctica.csv\", \"asia.csv\", \"europe.csv\", \"northamerica.csv\", \n",
    "         \"oceania.csv\", \"southamerica.csv\"]\n",
    "\n",
    "filenames = read_csv_data(names)\n",
    "count_type_list = count_doc_type_values(filenames, typology_dict)"
   ]
  },
  {
   "cell_type": "code",
   "execution_count": 5,
   "metadata": {},
   "outputs": [
    {
     "data": {
      "text/plain": [
       "[Artigo de conferência                  50\n",
       " Artigo de periódico paginado           34\n",
       " Apresentação                           26\n",
       " Preprint                               18\n",
       " Tese/Dissertação                       11\n",
       " Artigo de periódico sem paginação       9\n",
       " Livro                                   9\n",
       " Outro                                   7\n",
       " Capítulo de livro                       6\n",
       " Tutorial                                5\n",
       " Relatório                               4\n",
       " Pôster de conferência                   2\n",
       " Guia / manual                           2\n",
       " Matéria de jornal/revista               1\n",
       " Material instrucional de biblioteca     1\n",
       " Bibliografia                            1\n",
       " Projeto / Plano de negócios             1\n",
       " Name: type, dtype: int64,\n",
       " Preprint             1\n",
       " Capítulo de livro    1\n",
       " Name: type, dtype: int64,\n",
       " Artigo de periódico paginado         823\n",
       " Artigo de conferência                556\n",
       " Artigo de periódico sem paginação    185\n",
       " Preprint                             114\n",
       " Capítulo de livro                     99\n",
       " Apresentação                          88\n",
       " Matéria de jornal/revista             74\n",
       " Relatório                             44\n",
       " Tese/Dissertação                      37\n",
       " Guia / manual                         31\n",
       " Livro                                 31\n",
       " Pôster de conferência                 28\n",
       " Outro                                 25\n",
       " Tutorial                               7\n",
       " Anais de evento                        7\n",
       " Relatório técnico                      7\n",
       " Revisão de literatura                  5\n",
       " Bibliografia                           5\n",
       " Projeto / Plano de negócios            3\n",
       " Name: type, dtype: int64,\n",
       " Artigo de periódico paginado           4855\n",
       " Artigo de conferência                  2582\n",
       " Artigo de periódico sem paginação      1401\n",
       " Apresentação                           1102\n",
       " Capítulo de livro                       891\n",
       " Preprint                                452\n",
       " Tese/Dissertação                        356\n",
       " Pôster de conferência                   316\n",
       " Relatório                               294\n",
       " Revisão de literatura                   252\n",
       " Livro                                   201\n",
       " Outro                                   167\n",
       " Guia / manual                           131\n",
       " Matéria de jornal/revista                66\n",
       " Anais de evento                          55\n",
       " Tutorial                                 44\n",
       " Relatório técnico                        23\n",
       " Projeto / Plano de negócios              23\n",
       " Bibliografia                             21\n",
       " Material instrucional de biblioteca      12\n",
       " Conjunto de dados                         8\n",
       " Relatório técnico departamental           1\n",
       " Name: type, dtype: int64,\n",
       " Artigo de periódico paginado           864\n",
       " Artigo de periódico sem paginação      760\n",
       " Artigo de conferência                  532\n",
       " Apresentação                           380\n",
       " Preprint                               202\n",
       " Tese/Dissertação                       106\n",
       " Capítulo de livro                      105\n",
       " Relatório                               65\n",
       " Pôster de conferência                   55\n",
       " Outro                                   53\n",
       " Matéria de jornal/revista               49\n",
       " Livro                                   48\n",
       " Bibliografia                            41\n",
       " Guia / manual                           29\n",
       " Anais de evento                         21\n",
       " Projeto / Plano de negócios             14\n",
       " Revisão de literatura                    9\n",
       " Relatório técnico                        7\n",
       " Material instrucional de biblioteca      2\n",
       " Relatório técnico departamental          2\n",
       " Conjunto de dados                        1\n",
       " Name: type, dtype: int64,\n",
       " Artigo de conferência                38\n",
       " Apresentação                         36\n",
       " Artigo de periódico paginado         31\n",
       " Relatório                            15\n",
       " Artigo de periódico sem paginação    13\n",
       " Preprint                              7\n",
       " Matéria de jornal/revista             6\n",
       " Tese/Dissertação                      5\n",
       " Outro                                 4\n",
       " Livro                                 4\n",
       " Guia / manual                         2\n",
       " Projeto / Plano de negócios           1\n",
       " Revisão de literatura                 1\n",
       " Capítulo de livro                     1\n",
       " Name: type, dtype: int64,\n",
       " Artigo de periódico paginado           1383\n",
       " Artigo de conferência                   673\n",
       " Artigo de periódico sem paginação       503\n",
       " Preprint                                278\n",
       " Tese/Dissertação                        216\n",
       " Outro                                   199\n",
       " Apresentação                            194\n",
       " Pôster de conferência                   129\n",
       " Matéria de jornal/revista               124\n",
       " Livro                                    98\n",
       " Relatório                                89\n",
       " Capítulo de livro                        68\n",
       " Guia / manual                            48\n",
       " Revisão de literatura                    32\n",
       " Bibliografia                             30\n",
       " Anais de evento                          19\n",
       " Projeto / Plano de negócios              16\n",
       " Relatório técnico                        14\n",
       " Tutorial                                  6\n",
       " Material instrucional de biblioteca       4\n",
       " Conjunto de dados                         1\n",
       " Relatório técnico departamental           1\n",
       " Name: type, dtype: int64]"
      ]
     },
     "execution_count": 5,
     "metadata": {},
     "output_type": "execute_result"
    }
   ],
   "source": [
    "count_type_list"
   ]
  },
  {
   "cell_type": "code",
   "execution_count": 6,
   "metadata": {},
   "outputs": [],
   "source": [
    "continents = ['África', 'Antártica', 'Ásia', 'Europa', 'América do Norte', 'Oceania', 'América do Sul']\n",
    "\n",
    "doc_type_table = pd.DataFrame(count_type_list, index = continents).sort_index(axis=1).fillna(0).astype(int).T\n",
    "doc_type_table\n",
    "\n",
    "# Working directory\n",
    "path1 = os.getcwd() \n",
    "path2 = os.path.dirname(path1)\n",
    "wdir = os.path.join(path2, \"db_generated/doc_type\", \"\")\n",
    "\n",
    "doc_type_table.to_csv(wdir + \"doc_type_table.csv\")"
   ]
  },
  {
   "cell_type": "code",
   "execution_count": 7,
   "metadata": {},
   "outputs": [
    {
     "name": "stdout",
     "output_type": "stream",
     "text": [
      "Artigo de periódico paginado           1383\n",
      "Artigo de conferência                   673\n",
      "Artigo de periódico sem paginação       503\n",
      "Preprint                                278\n",
      "Tese/Dissertação                        216\n",
      "Outro                                   199\n",
      "Apresentação                            194\n",
      "Pôster de conferência                   129\n",
      "Matéria de jornal/revista               124\n",
      "Livro                                    98\n",
      "Relatório                                89\n",
      "Capítulo de livro                        68\n",
      "Guia / manual                            48\n",
      "Revisão de literatura                    32\n",
      "Bibliografia                             30\n",
      "Anais de evento                          19\n",
      "Projeto / Plano de negócios              16\n",
      "Relatório técnico                        14\n",
      "Tutorial                                  6\n",
      "Material instrucional de biblioteca       4\n",
      "Conjunto de dados                         1\n",
      "Relatório técnico departamental           1\n",
      "Name: type, dtype: int64\n"
     ]
    }
   ],
   "source": [
    "print(count_type_list[6])"
   ]
  },
  {
   "cell_type": "code",
   "execution_count": 8,
   "metadata": {
    "scrolled": true
   },
   "outputs": [
    {
     "name": "stdout",
     "output_type": "stream",
     "text": [
      "Maior indice é 3, do csv europe.csv, observe: \n",
      "Artigo de periódico paginado           4855\n",
      "Artigo de conferência                  2582\n",
      "Artigo de periódico sem paginação      1401\n",
      "Apresentação                           1102\n",
      "Capítulo de livro                       891\n",
      "Preprint                                452\n",
      "Tese/Dissertação                        356\n",
      "Pôster de conferência                   316\n",
      "Relatório                               294\n",
      "Revisão de literatura                   252\n",
      "Livro                                   201\n",
      "Outro                                   167\n",
      "Guia / manual                           131\n",
      "Matéria de jornal/revista                66\n",
      "Anais de evento                          55\n",
      "Tutorial                                 44\n",
      "Relatório técnico                        23\n",
      "Projeto / Plano de negócios              23\n",
      "Bibliografia                             21\n",
      "Material instrucional de biblioteca      12\n",
      "Conjunto de dados                         8\n",
      "Relatório técnico departamental           1\n",
      "Name: type, dtype: int64\n",
      "All documents are in the list.\n"
     ]
    }
   ],
   "source": [
    "indice = get_max_doc_type(count_type_list, names)\n",
    "\n",
    "check_doc_type(count_type_list, indice)"
   ]
  },
  {
   "cell_type": "code",
   "execution_count": 9,
   "metadata": {
    "scrolled": true
   },
   "outputs": [
    {
     "data": {
      "text/plain": [
       "[{'Artigo de conferência': 50,\n",
       "  'Artigo de periódico paginado': 34,\n",
       "  'Apresentação': 26,\n",
       "  'Preprint': 18,\n",
       "  'Tese/Dissertação': 11,\n",
       "  'Artigo de periódico sem paginação': 9,\n",
       "  'Livro': 9,\n",
       "  'Outro': 7,\n",
       "  'Capítulo de livro': 6,\n",
       "  'Tutorial': 5,\n",
       "  'Relatório': 4,\n",
       "  'Pôster de conferência': 2,\n",
       "  'Guia / manual': 2,\n",
       "  'Matéria de jornal/revista': 1,\n",
       "  'Material instrucional de biblioteca': 1,\n",
       "  'Bibliografia': 1,\n",
       "  'Projeto / Plano de negócios': 1,\n",
       "  'Anais de evento': 0,\n",
       "  'Relatório técnico': 0,\n",
       "  'Revisão de literatura': 0},\n",
       " {'Preprint': 1,\n",
       "  'Capítulo de livro': 1,\n",
       "  'Artigo de periódico paginado': 0,\n",
       "  'Artigo de conferência': 0,\n",
       "  'Artigo de periódico sem paginação': 0,\n",
       "  'Apresentação': 0,\n",
       "  'Matéria de jornal/revista': 0,\n",
       "  'Relatório': 0,\n",
       "  'Tese/Dissertação': 0,\n",
       "  'Guia / manual': 0,\n",
       "  'Livro': 0,\n",
       "  'Pôster de conferência': 0,\n",
       "  'Outro': 0,\n",
       "  'Tutorial': 0,\n",
       "  'Anais de evento': 0,\n",
       "  'Relatório técnico': 0,\n",
       "  'Revisão de literatura': 0,\n",
       "  'Bibliografia': 0,\n",
       "  'Projeto / Plano de negócios': 0},\n",
       " {'Artigo de periódico paginado': 823,\n",
       "  'Artigo de conferência': 556,\n",
       "  'Artigo de periódico sem paginação': 185,\n",
       "  'Preprint': 114,\n",
       "  'Capítulo de livro': 99,\n",
       "  'Apresentação': 88,\n",
       "  'Matéria de jornal/revista': 74,\n",
       "  'Relatório': 44,\n",
       "  'Tese/Dissertação': 37,\n",
       "  'Guia / manual': 31,\n",
       "  'Livro': 31,\n",
       "  'Pôster de conferência': 28,\n",
       "  'Outro': 25,\n",
       "  'Tutorial': 7,\n",
       "  'Anais de evento': 7,\n",
       "  'Relatório técnico': 7,\n",
       "  'Revisão de literatura': 5,\n",
       "  'Bibliografia': 5,\n",
       "  'Projeto / Plano de negócios': 3},\n",
       " {'Artigo de periódico paginado': 4855,\n",
       "  'Artigo de conferência': 2582,\n",
       "  'Artigo de periódico sem paginação': 1401,\n",
       "  'Apresentação': 1102,\n",
       "  'Capítulo de livro': 891,\n",
       "  'Preprint': 452,\n",
       "  'Tese/Dissertação': 356,\n",
       "  'Pôster de conferência': 316,\n",
       "  'Relatório': 294,\n",
       "  'Revisão de literatura': 252,\n",
       "  'Livro': 201,\n",
       "  'Outro': 167,\n",
       "  'Guia / manual': 131,\n",
       "  'Matéria de jornal/revista': 66,\n",
       "  'Anais de evento': 55,\n",
       "  'Tutorial': 44,\n",
       "  'Relatório técnico': 23,\n",
       "  'Projeto / Plano de negócios': 23,\n",
       "  'Bibliografia': 21,\n",
       "  'Material instrucional de biblioteca': 12,\n",
       "  'Conjunto de dados': 8,\n",
       "  'Relatório técnico departamental': 1},\n",
       " {'Artigo de periódico paginado': 864,\n",
       "  'Artigo de periódico sem paginação': 760,\n",
       "  'Artigo de conferência': 532,\n",
       "  'Apresentação': 380,\n",
       "  'Preprint': 202,\n",
       "  'Tese/Dissertação': 106,\n",
       "  'Capítulo de livro': 105,\n",
       "  'Relatório': 65,\n",
       "  'Pôster de conferência': 55,\n",
       "  'Outro': 53,\n",
       "  'Matéria de jornal/revista': 49,\n",
       "  'Livro': 48,\n",
       "  'Bibliografia': 41,\n",
       "  'Guia / manual': 29,\n",
       "  'Anais de evento': 21,\n",
       "  'Projeto / Plano de negócios': 14,\n",
       "  'Revisão de literatura': 9,\n",
       "  'Relatório técnico': 7,\n",
       "  'Material instrucional de biblioteca': 2,\n",
       "  'Relatório técnico departamental': 2,\n",
       "  'Conjunto de dados': 1,\n",
       "  'Tutorial': 0},\n",
       " {'Artigo de conferência': 38,\n",
       "  'Apresentação': 36,\n",
       "  'Artigo de periódico paginado': 31,\n",
       "  'Relatório': 15,\n",
       "  'Artigo de periódico sem paginação': 13,\n",
       "  'Preprint': 7,\n",
       "  'Matéria de jornal/revista': 6,\n",
       "  'Tese/Dissertação': 5,\n",
       "  'Outro': 4,\n",
       "  'Livro': 4,\n",
       "  'Guia / manual': 2,\n",
       "  'Projeto / Plano de negócios': 1,\n",
       "  'Revisão de literatura': 1,\n",
       "  'Capítulo de livro': 1,\n",
       "  'Pôster de conferência': 0,\n",
       "  'Tutorial': 0,\n",
       "  'Anais de evento': 0,\n",
       "  'Relatório técnico': 0,\n",
       "  'Bibliografia': 0},\n",
       " {'Artigo de periódico paginado': 1383,\n",
       "  'Artigo de conferência': 673,\n",
       "  'Artigo de periódico sem paginação': 503,\n",
       "  'Preprint': 278,\n",
       "  'Tese/Dissertação': 216,\n",
       "  'Outro': 199,\n",
       "  'Apresentação': 194,\n",
       "  'Pôster de conferência': 129,\n",
       "  'Matéria de jornal/revista': 124,\n",
       "  'Livro': 98,\n",
       "  'Relatório': 89,\n",
       "  'Capítulo de livro': 68,\n",
       "  'Guia / manual': 48,\n",
       "  'Revisão de literatura': 32,\n",
       "  'Bibliografia': 30,\n",
       "  'Anais de evento': 19,\n",
       "  'Projeto / Plano de negócios': 16,\n",
       "  'Relatório técnico': 14,\n",
       "  'Tutorial': 6,\n",
       "  'Material instrucional de biblioteca': 4,\n",
       "  'Conjunto de dados': 1,\n",
       "  'Relatório técnico departamental': 1}]"
      ]
     },
     "execution_count": 9,
     "metadata": {},
     "output_type": "execute_result"
    }
   ],
   "source": [
    "fill_doc_types_missing(count_type_list)"
   ]
  },
  {
   "cell_type": "markdown",
   "metadata": {},
   "source": [
    "## Plotting Charts"
   ]
  },
  {
   "cell_type": "markdown",
   "metadata": {},
   "source": [
    "### ***Total Types of Documents for Each DataFrame***"
   ]
  },
  {
   "cell_type": "code",
   "execution_count": 10,
   "metadata": {
    "scrolled": false
   },
   "outputs": [
    {
     "data": {
      "text/plain": [
       "['africa.csv',\n",
       " 'antarctica.csv',\n",
       " 'asia.csv',\n",
       " 'europe.csv',\n",
       " 'northamerica.csv',\n",
       " 'oceania.csv',\n",
       " 'southamerica.csv']"
      ]
     },
     "execution_count": 10,
     "metadata": {},
     "output_type": "execute_result"
    }
   ],
   "source": [
    "names"
   ]
  },
  {
   "cell_type": "code",
   "execution_count": 11,
   "metadata": {},
   "outputs": [],
   "source": [
    "def plot_type_bar_chart(count_type_list, names):\n",
    "    \"\"\" This function plot bar charts of document type for multiple csv files.\n",
    "    \n",
    "    Parameters\n",
    "    ----------\n",
    "        count_type_list : list of pandas Series\n",
    "            list containing counting of document type\n",
    "        names : list of str\n",
    "            names of the files, ex: [\"africa.csv\"] \n",
    "            \n",
    "        \n",
    "    Returns\n",
    "    -------\n",
    "        no value\n",
    "    \"\"\"    \n",
    "    file = count_type_list.sort_values(ascending = True)\n",
    "    file_values = file[file > 0]\n",
    "    file.plot.barh(figsize = (10, 5), color = 'gray', logx = True, alpha = 0.8, legend = False)\n",
    "    plt.xlabel('Total de documentos', fontweight='bold')\n",
    "    plt.ylabel('Tipologia dos documentos', fontweight='bold')\n",
    "\n",
    "    # Selecting working directory\n",
    "    p1 = os.getcwd() \n",
    "    path = os.path.dirname(p1)\n",
    "    wdir = os.path.join(path, \"plots/doc_types\", \"\")\n",
    "    \n",
    "    # Save figure\n",
    "    plt.tight_layout()\n",
    "    string = (wdir + \"{}.png\").format(name)\n",
    "    #plt.savefig(string, dpi = 600, transparent = True)\n",
    "    plt.show()"
   ]
  },
  {
   "cell_type": "code",
   "execution_count": 12,
   "metadata": {
    "scrolled": true
   },
   "outputs": [
    {
     "data": {
      "image/png": "[encoded data removed]",
      "text/plain": [
       "<Figure size 720x360 with 1 Axes>"
      ]
     },
     "metadata": {
      "needs_background": "light"
     },
     "output_type": "display_data"
    },
    {
     "data": {
      "image/png": "[encoded data removed]",
      "text/plain": [
       "<Figure size 720x360 with 1 Axes>"
      ]
     },
     "metadata": {
      "needs_background": "light"
     },
     "output_type": "display_data"
    },
    {
     "data": {
      "image/png": "[encoded data removed]",
      "text/plain": [
       "<Figure size 720x360 with 1 Axes>"
      ]
     },
     "metadata": {
      "needs_background": "light"
     },
     "output_type": "display_data"
    },
    {
     "data": {
      "image/png": "[encoded data removed]",
      "text/plain": [
       "<Figure size 720x360 with 1 Axes>"
      ]
     },
     "metadata": {
      "needs_background": "light"
     },
     "output_type": "display_data"
    },
    {
     "data": {
      "image/png": "[encoded data removed]",
      "text/plain": [
       "<Figure size 720x360 with 1 Axes>"
      ]
     },
     "metadata": {
      "needs_background": "light"
     },
     "output_type": "display_data"
    },
    {
     "data": {
      "image/png": "[encoded data removed]",
      "text/plain": [
       "<Figure size 720x360 with 1 Axes>"
      ]
     },
     "metadata": {
      "needs_background": "light"
     },
     "output_type": "display_data"
    },
    {
     "data": {
      "image/png": "[encoded data removed]",
      "text/plain": [
       "<Figure size 720x360 with 1 Axes>"
      ]
     },
     "metadata": {
      "needs_background": "light"
     },
     "output_type": "display_data"
    }
   ],
   "source": [
    "# Plot chart for every spreadsheet\n",
    "for name, file in zip(names, count_type_list):\n",
    "    plot_type_bar_chart(file, name)"
   ]
  },
  {
   "cell_type": "markdown",
   "metadata": {},
   "source": [
    "### ***Total Types of Documents Worlwide***"
   ]
  },
  {
   "cell_type": "markdown",
   "metadata": {},
   "source": [
    "***Defining functions***"
   ]
  },
  {
   "cell_type": "code",
   "execution_count": 13,
   "metadata": {
    "scrolled": false
   },
   "outputs": [],
   "source": [
    "# List of dictionaries (retrieved using fill_doc_types_missing() function)\n",
    "\n",
    "list_dict_type_complete = fill_doc_types_missing(count_type_list)\n",
    "\n",
    "def doc_type_sum(count_type_lst_dict):\n",
    "    \"\"\" This function sums the values of all equal keys.\n",
    "    \n",
    "    Parameters\n",
    "    ----------\n",
    "        count_type_lst_dict : list of dictionaries.\n",
    "            list containing multiple dictionaries with value counts of documents' types.\n",
    "        \n",
    "    Returns\n",
    "    -------\n",
    "        list_type_sum : list.\n",
    "            list containing the total of documents per type.\n",
    "    \"\"\"  \n",
    "\n",
    "    # sum the values for equal keys \n",
    "    type_counter = collections.Counter() \n",
    "\n",
    "    for d in list_dict_type_complete:  \n",
    "        type_counter.update(d)\n",
    "\n",
    "    result = dict(type_counter)\n",
    "    \n",
    "    pd_counter = pd.DataFrame.from_dict(result, orient = 'index', columns = ['totals'])\n",
    "\n",
    "    #print(str(type_counter))\n",
    "    return pd_counter"
   ]
  },
  {
   "cell_type": "code",
   "execution_count": 14,
   "metadata": {},
   "outputs": [],
   "source": [
    "def doc_type_percentage(df_type_totals):\n",
    "    \"\"\"This function plots calculates the percentage of document types worldwide.\n",
    "\n",
    "    Parameters\n",
    "    ----------\n",
    "        df_type_totals : pandas DataFrame.\n",
    "            Dataframe containing total values per document type worlwide.\n",
    "\n",
    "    Returns\n",
    "    -------\n",
    "        df_type_total_percent : pandas DataFrame.\n",
    "            Dataframe containing percentage per document type worldwide.\n",
    "\n",
    "    \"\"\"\n",
    "\n",
    "    total = sum(df_type_totals['totals'].values)\n",
    "\n",
    "    df_type_total_percent = df_type_totals / total\n",
    "    df_type_total_percent = df_type_total_percent.round(2)\n",
    "\n",
    "    return df_type_total_percent"
   ]
  },
  {
   "cell_type": "markdown",
   "metadata": {},
   "source": [
    "***Applying functions***"
   ]
  },
  {
   "cell_type": "code",
   "execution_count": 15,
   "metadata": {
    "scrolled": true
   },
   "outputs": [],
   "source": [
    "df_type_totals = doc_type_sum(list_dict_type_complete)\n",
    "df_type_percent = doc_type_percentage(df_type_totals)\n",
    "\n",
    "df_type_percent.sort_values(by = 'totals', ascending = True, inplace = True)"
   ]
  },
  {
   "cell_type": "code",
   "execution_count": 16,
   "metadata": {},
   "outputs": [
    {
     "data": {
      "text/plain": [
       "totals    23245\n",
       "dtype: int64"
      ]
     },
     "execution_count": 16,
     "metadata": {},
     "output_type": "execute_result"
    }
   ],
   "source": [
    "df_type_totals.sum()"
   ]
  },
  {
   "cell_type": "code",
   "execution_count": 17,
   "metadata": {
    "scrolled": true
   },
   "outputs": [
    {
     "data": {
      "text/html": [
       "<div>\n",
       "<style scoped>\n",
       "    .dataframe tbody tr th:only-of-type {\n",
       "        vertical-align: middle;\n",
       "    }\n",
       "\n",
       "    .dataframe tbody tr th {\n",
       "        vertical-align: top;\n",
       "    }\n",
       "\n",
       "    .dataframe thead th {\n",
       "        text-align: right;\n",
       "    }\n",
       "</style>\n",
       "<table border=\"1\" class=\"dataframe\">\n",
       "  <thead>\n",
       "    <tr style=\"text-align: right;\">\n",
       "      <th></th>\n",
       "      <th>totals</th>\n",
       "    </tr>\n",
       "  </thead>\n",
       "  <tbody>\n",
       "    <tr>\n",
       "      <th>Relatório técnico departamental</th>\n",
       "      <td>4</td>\n",
       "    </tr>\n",
       "    <tr>\n",
       "      <th>Conjunto de dados</th>\n",
       "      <td>10</td>\n",
       "    </tr>\n",
       "    <tr>\n",
       "      <th>Material instrucional de biblioteca</th>\n",
       "      <td>19</td>\n",
       "    </tr>\n",
       "    <tr>\n",
       "      <th>Relatório técnico</th>\n",
       "      <td>51</td>\n",
       "    </tr>\n",
       "    <tr>\n",
       "      <th>Projeto / Plano de negócios</th>\n",
       "      <td>58</td>\n",
       "    </tr>\n",
       "    <tr>\n",
       "      <th>Tutorial</th>\n",
       "      <td>62</td>\n",
       "    </tr>\n",
       "    <tr>\n",
       "      <th>Bibliografia</th>\n",
       "      <td>98</td>\n",
       "    </tr>\n",
       "    <tr>\n",
       "      <th>Anais de evento</th>\n",
       "      <td>102</td>\n",
       "    </tr>\n",
       "    <tr>\n",
       "      <th>Guia / manual</th>\n",
       "      <td>243</td>\n",
       "    </tr>\n",
       "    <tr>\n",
       "      <th>Revisão de literatura</th>\n",
       "      <td>299</td>\n",
       "    </tr>\n",
       "    <tr>\n",
       "      <th>Matéria de jornal/revista</th>\n",
       "      <td>320</td>\n",
       "    </tr>\n",
       "    <tr>\n",
       "      <th>Livro</th>\n",
       "      <td>391</td>\n",
       "    </tr>\n",
       "    <tr>\n",
       "      <th>Outro</th>\n",
       "      <td>455</td>\n",
       "    </tr>\n",
       "    <tr>\n",
       "      <th>Relatório</th>\n",
       "      <td>511</td>\n",
       "    </tr>\n",
       "    <tr>\n",
       "      <th>Pôster de conferência</th>\n",
       "      <td>530</td>\n",
       "    </tr>\n",
       "    <tr>\n",
       "      <th>Tese/Dissertação</th>\n",
       "      <td>731</td>\n",
       "    </tr>\n",
       "    <tr>\n",
       "      <th>Preprint</th>\n",
       "      <td>1072</td>\n",
       "    </tr>\n",
       "    <tr>\n",
       "      <th>Capítulo de livro</th>\n",
       "      <td>1171</td>\n",
       "    </tr>\n",
       "    <tr>\n",
       "      <th>Apresentação</th>\n",
       "      <td>1826</td>\n",
       "    </tr>\n",
       "    <tr>\n",
       "      <th>Artigo de periódico sem paginação</th>\n",
       "      <td>2871</td>\n",
       "    </tr>\n",
       "    <tr>\n",
       "      <th>Artigo de conferência</th>\n",
       "      <td>4431</td>\n",
       "    </tr>\n",
       "    <tr>\n",
       "      <th>Artigo de periódico paginado</th>\n",
       "      <td>7990</td>\n",
       "    </tr>\n",
       "  </tbody>\n",
       "</table>\n",
       "</div>"
      ],
      "text/plain": [
       "                                     totals\n",
       "Relatório técnico departamental           4\n",
       "Conjunto de dados                        10\n",
       "Material instrucional de biblioteca      19\n",
       "Relatório técnico                        51\n",
       "Projeto / Plano de negócios              58\n",
       "Tutorial                                 62\n",
       "Bibliografia                             98\n",
       "Anais de evento                         102\n",
       "Guia / manual                           243\n",
       "Revisão de literatura                   299\n",
       "Matéria de jornal/revista               320\n",
       "Livro                                   391\n",
       "Outro                                   455\n",
       "Relatório                               511\n",
       "Pôster de conferência                   530\n",
       "Tese/Dissertação                        731\n",
       "Preprint                               1072\n",
       "Capítulo de livro                      1171\n",
       "Apresentação                           1826\n",
       "Artigo de periódico sem paginação      2871\n",
       "Artigo de conferência                  4431\n",
       "Artigo de periódico paginado           7990"
      ]
     },
     "execution_count": 17,
     "metadata": {},
     "output_type": "execute_result"
    }
   ],
   "source": [
    "df_type_totals.sort_values(by = 'totals', ascending = True)"
   ]
  },
  {
   "cell_type": "code",
   "execution_count": 18,
   "metadata": {
    "scrolled": true
   },
   "outputs": [
    {
     "data": {
      "text/html": [
       "<div>\n",
       "<style scoped>\n",
       "    .dataframe tbody tr th:only-of-type {\n",
       "        vertical-align: middle;\n",
       "    }\n",
       "\n",
       "    .dataframe tbody tr th {\n",
       "        vertical-align: top;\n",
       "    }\n",
       "\n",
       "    .dataframe thead th {\n",
       "        text-align: right;\n",
       "    }\n",
       "</style>\n",
       "<table border=\"1\" class=\"dataframe\">\n",
       "  <thead>\n",
       "    <tr style=\"text-align: right;\">\n",
       "      <th></th>\n",
       "      <th>totals</th>\n",
       "    </tr>\n",
       "  </thead>\n",
       "  <tbody>\n",
       "    <tr>\n",
       "      <th>Relatório técnico departamental</th>\n",
       "      <td>0.00</td>\n",
       "    </tr>\n",
       "    <tr>\n",
       "      <th>Relatório técnico</th>\n",
       "      <td>0.00</td>\n",
       "    </tr>\n",
       "    <tr>\n",
       "      <th>Anais de evento</th>\n",
       "      <td>0.00</td>\n",
       "    </tr>\n",
       "    <tr>\n",
       "      <th>Projeto / Plano de negócios</th>\n",
       "      <td>0.00</td>\n",
       "    </tr>\n",
       "    <tr>\n",
       "      <th>Bibliografia</th>\n",
       "      <td>0.00</td>\n",
       "    </tr>\n",
       "    <tr>\n",
       "      <th>Material instrucional de biblioteca</th>\n",
       "      <td>0.00</td>\n",
       "    </tr>\n",
       "    <tr>\n",
       "      <th>Tutorial</th>\n",
       "      <td>0.00</td>\n",
       "    </tr>\n",
       "    <tr>\n",
       "      <th>Conjunto de dados</th>\n",
       "      <td>0.00</td>\n",
       "    </tr>\n",
       "    <tr>\n",
       "      <th>Revisão de literatura</th>\n",
       "      <td>0.01</td>\n",
       "    </tr>\n",
       "    <tr>\n",
       "      <th>Matéria de jornal/revista</th>\n",
       "      <td>0.01</td>\n",
       "    </tr>\n",
       "    <tr>\n",
       "      <th>Guia / manual</th>\n",
       "      <td>0.01</td>\n",
       "    </tr>\n",
       "    <tr>\n",
       "      <th>Relatório</th>\n",
       "      <td>0.02</td>\n",
       "    </tr>\n",
       "    <tr>\n",
       "      <th>Outro</th>\n",
       "      <td>0.02</td>\n",
       "    </tr>\n",
       "    <tr>\n",
       "      <th>Livro</th>\n",
       "      <td>0.02</td>\n",
       "    </tr>\n",
       "    <tr>\n",
       "      <th>Pôster de conferência</th>\n",
       "      <td>0.02</td>\n",
       "    </tr>\n",
       "    <tr>\n",
       "      <th>Tese/Dissertação</th>\n",
       "      <td>0.03</td>\n",
       "    </tr>\n",
       "    <tr>\n",
       "      <th>Capítulo de livro</th>\n",
       "      <td>0.05</td>\n",
       "    </tr>\n",
       "    <tr>\n",
       "      <th>Preprint</th>\n",
       "      <td>0.05</td>\n",
       "    </tr>\n",
       "    <tr>\n",
       "      <th>Apresentação</th>\n",
       "      <td>0.08</td>\n",
       "    </tr>\n",
       "    <tr>\n",
       "      <th>Artigo de periódico sem paginação</th>\n",
       "      <td>0.12</td>\n",
       "    </tr>\n",
       "    <tr>\n",
       "      <th>Artigo de conferência</th>\n",
       "      <td>0.19</td>\n",
       "    </tr>\n",
       "    <tr>\n",
       "      <th>Artigo de periódico paginado</th>\n",
       "      <td>0.34</td>\n",
       "    </tr>\n",
       "  </tbody>\n",
       "</table>\n",
       "</div>"
      ],
      "text/plain": [
       "                                     totals\n",
       "Relatório técnico departamental        0.00\n",
       "Relatório técnico                      0.00\n",
       "Anais de evento                        0.00\n",
       "Projeto / Plano de negócios            0.00\n",
       "Bibliografia                           0.00\n",
       "Material instrucional de biblioteca    0.00\n",
       "Tutorial                               0.00\n",
       "Conjunto de dados                      0.00\n",
       "Revisão de literatura                  0.01\n",
       "Matéria de jornal/revista              0.01\n",
       "Guia / manual                          0.01\n",
       "Relatório                              0.02\n",
       "Outro                                  0.02\n",
       "Livro                                  0.02\n",
       "Pôster de conferência                  0.02\n",
       "Tese/Dissertação                       0.03\n",
       "Capítulo de livro                      0.05\n",
       "Preprint                               0.05\n",
       "Apresentação                           0.08\n",
       "Artigo de periódico sem paginação      0.12\n",
       "Artigo de conferência                  0.19\n",
       "Artigo de periódico paginado           0.34"
      ]
     },
     "execution_count": 18,
     "metadata": {},
     "output_type": "execute_result"
    }
   ],
   "source": [
    "df_type_percent"
   ]
  },
  {
   "cell_type": "markdown",
   "metadata": {},
   "source": [
    "***Defining function***"
   ]
  },
  {
   "cell_type": "code",
   "execution_count": 30,
   "metadata": {},
   "outputs": [],
   "source": [
    "def plot_type_percent_chart(df_type_percent):\n",
    "    \"\"\"This function plots a bar chart with the percentage of document types worldwide.\n",
    "    \n",
    "    Parameters\n",
    "    ----------\n",
    "        df_type_percent : pandas DataFrame.\n",
    "            Dataframe containing percentage values of document types worlwide\n",
    "        \n",
    "    Returns\n",
    "    -------\n",
    "        No value.\n",
    "    \n",
    "    \"\"\"\n",
    "    \n",
    "    df_type_percent.plot.barh(figsize = (10, 5), color = '#327BB3', alpha = 0.8, legend = False)\n",
    "\n",
    "    # Add a legend\n",
    "    plt.xlabel(\"Porcentagem\", fontweight = 'bold')\n",
    "    plt.ylabel(\"Tipologia dos documentos\", fontweight = 'bold')\n",
    "    \n",
    "    # Selecting working directory\n",
    "    p1 = os.getcwd() \n",
    "    path = os.path.dirname(p1)\n",
    "    wdir = os.path.join(path, \"plots/doc_types\", \"\")\n",
    "    \n",
    "    \n",
    "    # Save figure\n",
    "    plt.tight_layout()\n",
    "    #plt.savefig(wdir + 'worldwide_type_percentage.png', dpi = 600, transparent = True)\n",
    "    plt.show()\n",
    "    "
   ]
  },
  {
   "cell_type": "markdown",
   "metadata": {},
   "source": [
    "***Applying function***"
   ]
  },
  {
   "cell_type": "code",
   "execution_count": 32,
   "metadata": {},
   "outputs": [
    {
     "data": {
      "image/png": "[encoded data removed]",
      "text/plain": [
       "<Figure size 720x360 with 1 Axes>"
      ]
     },
     "metadata": {
      "needs_background": "light"
     },
     "output_type": "display_data"
    }
   ],
   "source": [
    "plot_type_percent_chart(df_type_percent)"
   ]
  },
  {
   "cell_type": "markdown",
   "metadata": {},
   "source": [
    "### ***Stacked Barplot Chart***\n",
    "\n",
    "This chart contains a comparison between document types."
   ]
  },
  {
   "cell_type": "code",
   "execution_count": 36,
   "metadata": {},
   "outputs": [],
   "source": [
    " def list_dict_to_df(list_of_dict, index, string):\n",
    "    \"\"\"This function plots a bar chart with the percentage of document types worldwide.\n",
    "    \n",
    "    Parameters\n",
    "    ----------\n",
    "        list_of_dict : list of dictionaries.\n",
    "            list of dictionaries that will be converted to csv.\n",
    "        index : list of strings.\n",
    "            list of strings that will be used as indexes in dataframe.\n",
    "        string : str\n",
    "            String will be used to name the csv file created.\n",
    "        \n",
    "    Returns\n",
    "    -------\n",
    "        No value.\n",
    "    \n",
    "    \"\"\"\n",
    "    \n",
    "    df = pd.DataFrame(list_of_dict, index)\n",
    "    #df.to_csv('csv/{}.csv'.format(string))\n",
    "    \n",
    "    return df"
   ]
  },
  {
   "cell_type": "code",
   "execution_count": 37,
   "metadata": {
    "scrolled": true
   },
   "outputs": [
    {
     "data": {
      "text/html": [
       "<div>\n",
       "<style scoped>\n",
       "    .dataframe tbody tr th:only-of-type {\n",
       "        vertical-align: middle;\n",
       "    }\n",
       "\n",
       "    .dataframe tbody tr th {\n",
       "        vertical-align: top;\n",
       "    }\n",
       "\n",
       "    .dataframe thead th {\n",
       "        text-align: right;\n",
       "    }\n",
       "</style>\n",
       "<table border=\"1\" class=\"dataframe\">\n",
       "  <thead>\n",
       "    <tr style=\"text-align: right;\">\n",
       "      <th></th>\n",
       "      <th>África</th>\n",
       "      <th>Antártica</th>\n",
       "      <th>Ásia</th>\n",
       "      <th>Europa</th>\n",
       "      <th>América do Norte</th>\n",
       "      <th>Oceania</th>\n",
       "      <th>América do Sul</th>\n",
       "    </tr>\n",
       "  </thead>\n",
       "  <tbody>\n",
       "    <tr>\n",
       "      <th>Artigo de conferência</th>\n",
       "      <td>50.0</td>\n",
       "      <td>0.0</td>\n",
       "      <td>556.0</td>\n",
       "      <td>2582.0</td>\n",
       "      <td>532.0</td>\n",
       "      <td>38.0</td>\n",
       "      <td>673.0</td>\n",
       "    </tr>\n",
       "    <tr>\n",
       "      <th>Artigo de periódico paginado</th>\n",
       "      <td>34.0</td>\n",
       "      <td>0.0</td>\n",
       "      <td>823.0</td>\n",
       "      <td>4855.0</td>\n",
       "      <td>864.0</td>\n",
       "      <td>31.0</td>\n",
       "      <td>1383.0</td>\n",
       "    </tr>\n",
       "    <tr>\n",
       "      <th>Apresentação</th>\n",
       "      <td>26.0</td>\n",
       "      <td>0.0</td>\n",
       "      <td>88.0</td>\n",
       "      <td>1102.0</td>\n",
       "      <td>380.0</td>\n",
       "      <td>36.0</td>\n",
       "      <td>194.0</td>\n",
       "    </tr>\n",
       "    <tr>\n",
       "      <th>Preprint</th>\n",
       "      <td>18.0</td>\n",
       "      <td>1.0</td>\n",
       "      <td>114.0</td>\n",
       "      <td>452.0</td>\n",
       "      <td>202.0</td>\n",
       "      <td>7.0</td>\n",
       "      <td>278.0</td>\n",
       "    </tr>\n",
       "    <tr>\n",
       "      <th>Tese/Dissertação</th>\n",
       "      <td>11.0</td>\n",
       "      <td>0.0</td>\n",
       "      <td>37.0</td>\n",
       "      <td>356.0</td>\n",
       "      <td>106.0</td>\n",
       "      <td>5.0</td>\n",
       "      <td>216.0</td>\n",
       "    </tr>\n",
       "    <tr>\n",
       "      <th>Artigo de periódico sem paginação</th>\n",
       "      <td>9.0</td>\n",
       "      <td>0.0</td>\n",
       "      <td>185.0</td>\n",
       "      <td>1401.0</td>\n",
       "      <td>760.0</td>\n",
       "      <td>13.0</td>\n",
       "      <td>503.0</td>\n",
       "    </tr>\n",
       "    <tr>\n",
       "      <th>Livro</th>\n",
       "      <td>9.0</td>\n",
       "      <td>0.0</td>\n",
       "      <td>31.0</td>\n",
       "      <td>201.0</td>\n",
       "      <td>48.0</td>\n",
       "      <td>4.0</td>\n",
       "      <td>98.0</td>\n",
       "    </tr>\n",
       "    <tr>\n",
       "      <th>Outro</th>\n",
       "      <td>7.0</td>\n",
       "      <td>0.0</td>\n",
       "      <td>25.0</td>\n",
       "      <td>167.0</td>\n",
       "      <td>53.0</td>\n",
       "      <td>4.0</td>\n",
       "      <td>199.0</td>\n",
       "    </tr>\n",
       "    <tr>\n",
       "      <th>Capítulo de livro</th>\n",
       "      <td>6.0</td>\n",
       "      <td>1.0</td>\n",
       "      <td>99.0</td>\n",
       "      <td>891.0</td>\n",
       "      <td>105.0</td>\n",
       "      <td>1.0</td>\n",
       "      <td>68.0</td>\n",
       "    </tr>\n",
       "    <tr>\n",
       "      <th>Tutorial</th>\n",
       "      <td>5.0</td>\n",
       "      <td>0.0</td>\n",
       "      <td>7.0</td>\n",
       "      <td>44.0</td>\n",
       "      <td>0.0</td>\n",
       "      <td>0.0</td>\n",
       "      <td>6.0</td>\n",
       "    </tr>\n",
       "    <tr>\n",
       "      <th>Relatório</th>\n",
       "      <td>4.0</td>\n",
       "      <td>0.0</td>\n",
       "      <td>44.0</td>\n",
       "      <td>294.0</td>\n",
       "      <td>65.0</td>\n",
       "      <td>15.0</td>\n",
       "      <td>89.0</td>\n",
       "    </tr>\n",
       "    <tr>\n",
       "      <th>Pôster de conferência</th>\n",
       "      <td>2.0</td>\n",
       "      <td>0.0</td>\n",
       "      <td>28.0</td>\n",
       "      <td>316.0</td>\n",
       "      <td>55.0</td>\n",
       "      <td>0.0</td>\n",
       "      <td>129.0</td>\n",
       "    </tr>\n",
       "    <tr>\n",
       "      <th>Guia / manual</th>\n",
       "      <td>2.0</td>\n",
       "      <td>0.0</td>\n",
       "      <td>31.0</td>\n",
       "      <td>131.0</td>\n",
       "      <td>29.0</td>\n",
       "      <td>2.0</td>\n",
       "      <td>48.0</td>\n",
       "    </tr>\n",
       "    <tr>\n",
       "      <th>Matéria de jornal/revista</th>\n",
       "      <td>1.0</td>\n",
       "      <td>0.0</td>\n",
       "      <td>74.0</td>\n",
       "      <td>66.0</td>\n",
       "      <td>49.0</td>\n",
       "      <td>6.0</td>\n",
       "      <td>124.0</td>\n",
       "    </tr>\n",
       "    <tr>\n",
       "      <th>Material instrucional de biblioteca</th>\n",
       "      <td>1.0</td>\n",
       "      <td>0.0</td>\n",
       "      <td>0.0</td>\n",
       "      <td>12.0</td>\n",
       "      <td>2.0</td>\n",
       "      <td>0.0</td>\n",
       "      <td>4.0</td>\n",
       "    </tr>\n",
       "    <tr>\n",
       "      <th>Bibliografia</th>\n",
       "      <td>1.0</td>\n",
       "      <td>0.0</td>\n",
       "      <td>5.0</td>\n",
       "      <td>21.0</td>\n",
       "      <td>41.0</td>\n",
       "      <td>0.0</td>\n",
       "      <td>30.0</td>\n",
       "    </tr>\n",
       "    <tr>\n",
       "      <th>Projeto / Plano de negócios</th>\n",
       "      <td>1.0</td>\n",
       "      <td>0.0</td>\n",
       "      <td>3.0</td>\n",
       "      <td>23.0</td>\n",
       "      <td>14.0</td>\n",
       "      <td>1.0</td>\n",
       "      <td>16.0</td>\n",
       "    </tr>\n",
       "    <tr>\n",
       "      <th>Anais de evento</th>\n",
       "      <td>0.0</td>\n",
       "      <td>0.0</td>\n",
       "      <td>7.0</td>\n",
       "      <td>55.0</td>\n",
       "      <td>21.0</td>\n",
       "      <td>0.0</td>\n",
       "      <td>19.0</td>\n",
       "    </tr>\n",
       "    <tr>\n",
       "      <th>Relatório técnico</th>\n",
       "      <td>0.0</td>\n",
       "      <td>0.0</td>\n",
       "      <td>7.0</td>\n",
       "      <td>23.0</td>\n",
       "      <td>7.0</td>\n",
       "      <td>0.0</td>\n",
       "      <td>14.0</td>\n",
       "    </tr>\n",
       "    <tr>\n",
       "      <th>Revisão de literatura</th>\n",
       "      <td>0.0</td>\n",
       "      <td>0.0</td>\n",
       "      <td>5.0</td>\n",
       "      <td>252.0</td>\n",
       "      <td>9.0</td>\n",
       "      <td>1.0</td>\n",
       "      <td>32.0</td>\n",
       "    </tr>\n",
       "    <tr>\n",
       "      <th>Conjunto de dados</th>\n",
       "      <td>0.0</td>\n",
       "      <td>0.0</td>\n",
       "      <td>0.0</td>\n",
       "      <td>8.0</td>\n",
       "      <td>1.0</td>\n",
       "      <td>0.0</td>\n",
       "      <td>1.0</td>\n",
       "    </tr>\n",
       "    <tr>\n",
       "      <th>Relatório técnico departamental</th>\n",
       "      <td>0.0</td>\n",
       "      <td>0.0</td>\n",
       "      <td>0.0</td>\n",
       "      <td>1.0</td>\n",
       "      <td>2.0</td>\n",
       "      <td>0.0</td>\n",
       "      <td>1.0</td>\n",
       "    </tr>\n",
       "  </tbody>\n",
       "</table>\n",
       "</div>"
      ],
      "text/plain": [
       "                                     África  Antártica   Ásia  Europa  \\\n",
       "Artigo de conferência                  50.0        0.0  556.0  2582.0   \n",
       "Artigo de periódico paginado           34.0        0.0  823.0  4855.0   \n",
       "Apresentação                           26.0        0.0   88.0  1102.0   \n",
       "Preprint                               18.0        1.0  114.0   452.0   \n",
       "Tese/Dissertação                       11.0        0.0   37.0   356.0   \n",
       "Artigo de periódico sem paginação       9.0        0.0  185.0  1401.0   \n",
       "Livro                                   9.0        0.0   31.0   201.0   \n",
       "Outro                                   7.0        0.0   25.0   167.0   \n",
       "Capítulo de livro                       6.0        1.0   99.0   891.0   \n",
       "Tutorial                                5.0        0.0    7.0    44.0   \n",
       "Relatório                               4.0        0.0   44.0   294.0   \n",
       "Pôster de conferência                   2.0        0.0   28.0   316.0   \n",
       "Guia / manual                           2.0        0.0   31.0   131.0   \n",
       "Matéria de jornal/revista               1.0        0.0   74.0    66.0   \n",
       "Material instrucional de biblioteca     1.0        0.0    0.0    12.0   \n",
       "Bibliografia                            1.0        0.0    5.0    21.0   \n",
       "Projeto / Plano de negócios             1.0        0.0    3.0    23.0   \n",
       "Anais de evento                         0.0        0.0    7.0    55.0   \n",
       "Relatório técnico                       0.0        0.0    7.0    23.0   \n",
       "Revisão de literatura                   0.0        0.0    5.0   252.0   \n",
       "Conjunto de dados                       0.0        0.0    0.0     8.0   \n",
       "Relatório técnico departamental         0.0        0.0    0.0     1.0   \n",
       "\n",
       "                                     América do Norte  Oceania  América do Sul  \n",
       "Artigo de conferência                           532.0     38.0           673.0  \n",
       "Artigo de periódico paginado                    864.0     31.0          1383.0  \n",
       "Apresentação                                    380.0     36.0           194.0  \n",
       "Preprint                                        202.0      7.0           278.0  \n",
       "Tese/Dissertação                                106.0      5.0           216.0  \n",
       "Artigo de periódico sem paginação               760.0     13.0           503.0  \n",
       "Livro                                            48.0      4.0            98.0  \n",
       "Outro                                            53.0      4.0           199.0  \n",
       "Capítulo de livro                               105.0      1.0            68.0  \n",
       "Tutorial                                          0.0      0.0             6.0  \n",
       "Relatório                                        65.0     15.0            89.0  \n",
       "Pôster de conferência                            55.0      0.0           129.0  \n",
       "Guia / manual                                    29.0      2.0            48.0  \n",
       "Matéria de jornal/revista                        49.0      6.0           124.0  \n",
       "Material instrucional de biblioteca               2.0      0.0             4.0  \n",
       "Bibliografia                                     41.0      0.0            30.0  \n",
       "Projeto / Plano de negócios                      14.0      1.0            16.0  \n",
       "Anais de evento                                  21.0      0.0            19.0  \n",
       "Relatório técnico                                 7.0      0.0            14.0  \n",
       "Revisão de literatura                             9.0      1.0            32.0  \n",
       "Conjunto de dados                                 1.0      0.0             1.0  \n",
       "Relatório técnico departamental                   2.0      0.0             1.0  "
      ]
     },
     "execution_count": 37,
     "metadata": {},
     "output_type": "execute_result"
    }
   ],
   "source": [
    "continents = ['África', 'Antártica', 'Ásia', 'Europa', 'América do Norte', 'Oceania', 'América do Sul']\n",
    "\n",
    "doc_type_df = list_dict_to_df(list_dict_type_complete, continents, 'doc_types_by_continent')\n",
    "doc_type_df = doc_type_df.T\n",
    "doc_type_df = doc_type_df.fillna(0)\n",
    "doc_type_df"
   ]
  },
  {
   "cell_type": "markdown",
   "metadata": {},
   "source": [
    "***Defining function***"
   ]
  },
  {
   "cell_type": "code",
   "execution_count": 38,
   "metadata": {},
   "outputs": [],
   "source": [
    "def doc_stacked_plot(doc_type_df, colors):\n",
    "    \"\"\"This function creates a stacked bar plot.\n",
    "    \n",
    "    Parameters\n",
    "    ----------\n",
    "        df_type_df : pandas DataFrame.\n",
    "            DataFrame containing types of documents and its counts by continent.\n",
    "        colors = list of strings\n",
    "            List of strings with color hex codes.\n",
    "        \n",
    "    Returns\n",
    "    -------\n",
    "        No value.\n",
    "    \n",
    "    \"\"\"\n",
    "    \n",
    "    ax = doc_type_df.apply(lambda x: x*100/sum(x), axis=1)\n",
    "    ax.plot.barh(figsize = (10, 5), stacked=True, color = colors)\n",
    "\n",
    "    # Add a legend\n",
    "    plt.legend(loc = 'upper left', bbox_to_anchor = (1,1), ncol = 1)\n",
    "    plt.xlabel(\"Porcentagem\", fontweight = 'bold')\n",
    "    plt.ylabel(\"Tipologia dos documentos\", fontweight = 'bold')\n",
    "\n",
    "\n",
    "    p1 = os.getcwd() \n",
    "    path = os.path.dirname(p1)\n",
    "    wdir = os.path.join(path, \"plots/doc_types\", \"\")\n",
    "\n",
    "    # Save figure\n",
    "    plt.tight_layout()\n",
    "    #plt.savefig(wdir + 'stacked_doc_type.png', dpi = 600, transparent = True)\n"
   ]
  },
  {
   "cell_type": "markdown",
   "metadata": {},
   "source": [
    "***Applying function***"
   ]
  },
  {
   "cell_type": "code",
   "execution_count": 39,
   "metadata": {},
   "outputs": [],
   "source": [
    "#cnames = ['#ffd6a5', '#a0c4ff', '#fdffb6', '#ffadad', '#9bf6ff', '#caffbf', '#bdb2ff']\n",
    "\n",
    "cnames = ['#f58549', '#8AAAFF', '#FDE89A', '#FF8CAD', '#9bf6ff', '#6FC786', '#A77DEB']"
   ]
  },
  {
   "cell_type": "code",
   "execution_count": 65,
   "metadata": {},
   "outputs": [
    {
     "data": {
      "image/png": "[encoded data removed]",
      "text/plain": [
       "<Figure size 720x360 with 1 Axes>"
      ]
     },
     "metadata": {
      "needs_background": "light"
     },
     "output_type": "display_data"
    }
   ],
   "source": [
    "stacked_doc_type = doc_stacked_plot(doc_type_df, cnames)\n",
    "stacked_doc_type"
   ]
  },
  {
   "cell_type": "markdown",
   "metadata": {},
   "source": [
    "# DEPOSIT DATE ANALYSIS"
   ]
  },
  {
   "cell_type": "markdown",
   "metadata": {},
   "source": [
    "## Organizing Data"
   ]
  },
  {
   "cell_type": "markdown",
   "metadata": {},
   "source": [
    "***Defining function***"
   ]
  },
  {
   "cell_type": "code",
   "execution_count": 41,
   "metadata": {
    "scrolled": true
   },
   "outputs": [],
   "source": [
    "def get_year_from_datestamp(filenames, names):\n",
    "    \"\"\"This function selects data from column 'datestamp' and extracts string corresponding to year.\n",
    "    \n",
    "    Parameters\n",
    "    ----------\n",
    "        filenames : list of strings.\n",
    "            List of csv files on its path.\n",
    "        names : list of str \n",
    "            names of the files, ex: [\"africa.csv\"]\n",
    "        \n",
    "    Returns\n",
    "    -------\n",
    "        datestamp_list : list.\n",
    "            List of selected columns (datestamp, continent), the added column 'year' and corresponding values.\n",
    "    \n",
    "    \"\"\"\n",
    "\n",
    "    datestamp_list = []\n",
    "    \n",
    "    for filename in filenames:\n",
    "        open_file = pd.read_csv(filename)\n",
    "        datestamp_file = open_file.loc[:, ['datestamp']]\n",
    "        datestamp_file['year'] = datestamp_file['datestamp'].astype(str).str[0:4]\n",
    "        datestamp_list.append(datestamp_file)\n",
    "        \n",
    "    return datestamp_list"
   ]
  },
  {
   "cell_type": "markdown",
   "metadata": {},
   "source": [
    "***Applying function***"
   ]
  },
  {
   "cell_type": "code",
   "execution_count": 42,
   "metadata": {
    "scrolled": true
   },
   "outputs": [
    {
     "name": "stderr",
     "output_type": "stream",
     "text": [
      "/home/sarah/anaconda3/lib/python3.8/site-packages/IPython/core/interactiveshell.py:3263: DtypeWarning: Columns (73,131,136) have mixed types.Specify dtype option on import or set low_memory=False.\n",
      "  if (await self.run_code(code, result,  async_=asy)):\n",
      "/home/sarah/anaconda3/lib/python3.8/site-packages/IPython/core/interactiveshell.py:3263: DtypeWarning: Columns (5,50,56,59,62,70,74,79,81,123,125,131,136) have mixed types.Specify dtype option on import or set low_memory=False.\n",
      "  if (await self.run_code(code, result,  async_=asy)):\n",
      "/home/sarah/anaconda3/lib/python3.8/site-packages/IPython/core/interactiveshell.py:3263: DtypeWarning: Columns (50,62,70,79,123) have mixed types.Specify dtype option on import or set low_memory=False.\n",
      "  if (await self.run_code(code, result,  async_=asy)):\n",
      "/home/sarah/anaconda3/lib/python3.8/site-packages/IPython/core/interactiveshell.py:3263: DtypeWarning: Columns (62,70,74,123,131,136) have mixed types.Specify dtype option on import or set low_memory=False.\n",
      "  if (await self.run_code(code, result,  async_=asy)):\n"
     ]
    },
    {
     "data": {
      "text/plain": [
       "[               datestamp  year\n",
       " 0    2018-07-08 11:18:40  2018\n",
       " 1    2013-04-02 08:10:09  2013\n",
       " 2                    NaN   nan\n",
       " 3                    NaN   nan\n",
       " 4                    NaN   nan\n",
       " ..                   ...   ...\n",
       " 913                  NaN   nan\n",
       " 914                  NaN   nan\n",
       " 915                  NaN   nan\n",
       " 916                  NaN   nan\n",
       " 917                  NaN   nan\n",
       " \n",
       " [918 rows x 2 columns],\n",
       "               datestamp  year\n",
       " 0   2015-06-26 22:05:21  2015\n",
       " 1                   NaN   nan\n",
       " 2                   NaN   nan\n",
       " 3                   NaN   nan\n",
       " 4                   NaN   nan\n",
       " 5                   NaN   nan\n",
       " 6                   NaN   nan\n",
       " 7                   NaN   nan\n",
       " 8                   NaN   nan\n",
       " 9                   NaN   nan\n",
       " 10                  NaN   nan\n",
       " 11  2015-01-04 20:54:12  2015\n",
       " 12                  NaN   nan\n",
       " 13                  NaN   nan,\n",
       "                 datestamp  year\n",
       " 0     2019-07-01 01:18:46  2019\n",
       " 1                     NaN   nan\n",
       " 2                     NaN   nan\n",
       " 3                     NaN   nan\n",
       " 4                     NaN   nan\n",
       " ...                   ...   ...\n",
       " 6212                  NaN   nan\n",
       " 6213                  NaN   nan\n",
       " 6214           2006-04-19  2006\n",
       " 6215                  NaN   nan\n",
       " 6216  2020-04-10 11:07:49  2020\n",
       " \n",
       " [6217 rows x 2 columns],\n",
       "                  datestamp  year\n",
       " 0      2013-02-11 11:35:02  2013\n",
       " 1                      NaN   nan\n",
       " 2      2016-06-14 10:48:03  2016\n",
       " 3                      NaN   nan\n",
       " 4                      NaN   nan\n",
       " ...                    ...   ...\n",
       " 37801                  NaN   nan\n",
       " 37802  2015-03-06 06:57:32  2015\n",
       " 37803                  NaN   nan\n",
       " 37804                  NaN   nan\n",
       " 37805  2015-03-06 07:06:28  2015\n",
       " \n",
       " [37806 rows x 2 columns],\n",
       "         datestamp  year\n",
       " 0      2006-11-29  2006\n",
       " 1             NaN   nan\n",
       " 2             NaN   nan\n",
       " 3      2006-11-28  2006\n",
       " 4             NaN   nan\n",
       " ...           ...   ...\n",
       " 10340  2011-06-01  2011\n",
       " 10341         NaN   nan\n",
       " 10342         NaN   nan\n",
       " 10343         NaN   nan\n",
       " 10344         NaN   nan\n",
       " \n",
       " [10345 rows x 2 columns],\n",
       "                datestamp  year\n",
       " 0    2019-06-28 17:03:43  2019\n",
       " 1                    NaN   nan\n",
       " 2                    NaN   nan\n",
       " 3                    NaN   nan\n",
       " 4                    NaN   nan\n",
       " ..                   ...   ...\n",
       " 413                  NaN   nan\n",
       " 414                  NaN   nan\n",
       " 415           2011-09-14  2011\n",
       " 416           2011-05-13  2011\n",
       " 417                  NaN   nan\n",
       " \n",
       " [418 rows x 2 columns],\n",
       "         datestamp  year\n",
       " 0      2006-11-12  2006\n",
       " 1             NaN   nan\n",
       " 2             NaN   nan\n",
       " 3      2012-01-16  2012\n",
       " 4             NaN   nan\n",
       " ...           ...   ...\n",
       " 12101         NaN   nan\n",
       " 12102         NaN   nan\n",
       " 12103         NaN   nan\n",
       " 12104         NaN   nan\n",
       " 12105         NaN   nan\n",
       " \n",
       " [12106 rows x 2 columns]]"
      ]
     },
     "execution_count": 42,
     "metadata": {},
     "output_type": "execute_result"
    }
   ],
   "source": [
    "datestamp_list = get_year_from_datestamp(filenames, names)\n",
    "datestamp_list"
   ]
  },
  {
   "cell_type": "markdown",
   "metadata": {},
   "source": [
    "***Defining function***"
   ]
  },
  {
   "cell_type": "code",
   "execution_count": 43,
   "metadata": {},
   "outputs": [],
   "source": [
    "def datestamp_dropna(datestamp_list, names):\n",
    "    \"\"\"This function deletes NaN values.\n",
    "    \n",
    "    Parameters\n",
    "    ----------\n",
    "        datestamp_list : list.\n",
    "            List of selected columns (datestamp, continent), the added column 'year' and corresponding values.\n",
    "        names : list of str \n",
    "            names of the files, ex: [\"africa.csv\"]\n",
    "        \n",
    "    Returns\n",
    "    -------\n",
    "        clean_datestamp : list.\n",
    "            List without NaN values, clean version of datestamp_list\n",
    "    \n",
    "    \"\"\"\n",
    "\n",
    "\n",
    "    clean_datestamp = []\n",
    "\n",
    "    for df in datestamp_list:\n",
    "        clean = df.dropna()\n",
    "        clean_datestamp.append(clean)\n",
    "\n",
    "\n",
    "    # Working directory\n",
    "    p1 = os.getcwd() \n",
    "    path = os.path.dirname(p1)\n",
    "    wdir = os.path.join(path, \"db_generated/datestamp\", \"\")\n",
    "    \n",
    "\n",
    "    for df_data, name in zip(clean_datestamp, names):\n",
    "        df_data.to_csv(wdir + \"{}\".format(name))\n",
    "    \n",
    "    return clean_datestamp"
   ]
  },
  {
   "cell_type": "markdown",
   "metadata": {},
   "source": [
    "***Applying function***"
   ]
  },
  {
   "cell_type": "code",
   "execution_count": 44,
   "metadata": {
    "scrolled": true
   },
   "outputs": [
    {
     "data": {
      "text/plain": [
       "[               datestamp  year\n",
       " 0    2018-07-08 11:18:40  2018\n",
       " 1    2013-04-02 08:10:09  2013\n",
       " 12            2006-09-04  2006\n",
       " 16            2004-02-26  2004\n",
       " 18            2012-07-26  2012\n",
       " ..                   ...   ...\n",
       " 879  2013-03-20 08:50:48  2013\n",
       " 883  2015-05-29 08:12:03  2015\n",
       " 889           2009-01-21  2009\n",
       " 899           2012-10-03  2012\n",
       " 908           2010-05-03  2010\n",
       " \n",
       " [187 rows x 2 columns],\n",
       "               datestamp  year\n",
       " 0   2015-06-26 22:05:21  2015\n",
       " 11  2015-01-04 20:54:12  2015,\n",
       "                 datestamp  year\n",
       " 0     2019-07-01 01:18:46  2019\n",
       " 7              2004-07-09  2004\n",
       " 9     2019-12-16 09:13:36  2019\n",
       " 16    2020-02-24 08:12:02  2020\n",
       " 30    2015-07-15 12:05:24  2015\n",
       " ...                   ...   ...\n",
       " 6191  2020-04-21 06:35:42  2020\n",
       " 6194           2009-01-21  2009\n",
       " 6204           2010-05-03  2010\n",
       " 6214           2006-04-19  2006\n",
       " 6216  2020-04-10 11:07:49  2020\n",
       " \n",
       " [2169 rows x 2 columns],\n",
       "                  datestamp  year\n",
       " 0      2013-02-11 11:35:02  2013\n",
       " 2      2016-06-14 10:48:03  2016\n",
       " 13     2014-01-05 13:21:29  2014\n",
       " 16     2016-12-15 13:43:46  2016\n",
       " 17     2013-07-08 09:39:38  2013\n",
       " ...                    ...   ...\n",
       " 37795  2014-06-28 08:34:37  2014\n",
       " 37798  2015-02-23 07:31:26  2015\n",
       " 37800  2015-03-06 06:53:16  2015\n",
       " 37802  2015-03-06 06:57:32  2015\n",
       " 37805  2015-03-06 07:06:28  2015\n",
       " \n",
       " [13253 rows x 2 columns],\n",
       "                  datestamp  year\n",
       " 0               2006-11-29  2006\n",
       " 3               2006-11-28  2006\n",
       " 11              2008-05-30  2008\n",
       " 14              2008-05-22  2008\n",
       " 17              2012-05-29  2012\n",
       " ...                    ...   ...\n",
       " 10322  2015-12-15 16:38:28  2015\n",
       " 10327           2006-12-12  2006\n",
       " 10330           2006-02-08  2006\n",
       " 10333  2014-07-25 12:47:06  2014\n",
       " 10340           2011-06-01  2011\n",
       " \n",
       " [3345 rows x 2 columns],\n",
       "                datestamp  year\n",
       " 0    2019-06-28 17:03:43  2019\n",
       " 7             2009-01-27  2009\n",
       " 10            2010-04-10  2010\n",
       " 13            2010-04-10  2010\n",
       " 15            2008-10-02  2008\n",
       " ..                   ...   ...\n",
       " 403           2012-09-13  2012\n",
       " 409           2006-06-22  2006\n",
       " 411           2006-06-22  2006\n",
       " 415           2011-09-14  2011\n",
       " 416           2011-05-13  2011\n",
       " \n",
       " [164 rows x 2 columns],\n",
       "                  datestamp  year\n",
       " 0               2006-11-12  2006\n",
       " 3               2012-01-16  2012\n",
       " 10              2004-06-09  2004\n",
       " 12              2004-08-24  2004\n",
       " 20              2011-08-30  2011\n",
       " ...                    ...   ...\n",
       " 12085  2020-02-18 18:14:33  2020\n",
       " 12086  2015-09-10 19:24:41  2015\n",
       " 12090  2015-09-10 19:23:34  2015\n",
       " 12092  2015-09-10 19:23:54  2015\n",
       " 12095  2015-05-02 22:06:13  2015\n",
       " \n",
       " [4125 rows x 2 columns]]"
      ]
     },
     "execution_count": 44,
     "metadata": {},
     "output_type": "execute_result"
    }
   ],
   "source": [
    "clean_datestamp = datestamp_dropna(datestamp_list, names)\n",
    "clean_datestamp"
   ]
  },
  {
   "cell_type": "markdown",
   "metadata": {},
   "source": [
    "***Defining function***"
   ]
  },
  {
   "cell_type": "code",
   "execution_count": 45,
   "metadata": {
    "scrolled": true
   },
   "outputs": [],
   "source": [
    "def count_datestamp_values(clean_datestamp, names):\n",
    "    \"\"\"This function count values for each year.\n",
    "    \n",
    "    Parameters\n",
    "    ----------\n",
    "        clean_datestamp : list.\n",
    "            List without NaN values, clean version of datestamp_list.\n",
    "        names : list of str \n",
    "            names of the files, ex: [\"africa.csv\"]\n",
    "        \n",
    "    Returns\n",
    "    -------\n",
    "        datestamp_counts : list.\n",
    "            List containing values count for each year.\n",
    "    \n",
    "    \"\"\"\n",
    "\n",
    "    datestamp_counts = []\n",
    "\n",
    "    for df in clean_datestamp:\n",
    "        datestamp_ct = df['year'].value_counts()\n",
    "        datestamp_counts.append(datestamp_ct)\n",
    "\n",
    "    p1 = os.getcwd() \n",
    "    path = os.path.dirname(p1)\n",
    "    wdir = os.path.join(path, \"db_generated/datestamp\", \"\")\n",
    "\n",
    "    for df_data, name in zip(datestamp_counts, names):\n",
    "        df_data.to_csv(wdir + \"{}_counts\".format(name))\n",
    "    \n",
    "    return datestamp_counts"
   ]
  },
  {
   "cell_type": "markdown",
   "metadata": {},
   "source": [
    "***Applying function***"
   ]
  },
  {
   "cell_type": "code",
   "execution_count": 46,
   "metadata": {
    "scrolled": true
   },
   "outputs": [
    {
     "data": {
      "text/plain": [
       "[2006    24\n",
       " 2013    23\n",
       " 2011    20\n",
       " 2010    16\n",
       " 2005    14\n",
       " 2007    13\n",
       " 2009    13\n",
       " 2008    12\n",
       " 2014    10\n",
       " 2012     9\n",
       " 2015     8\n",
       " 2017     7\n",
       " 2018     6\n",
       " 2020     6\n",
       " 2019     2\n",
       " 2004     2\n",
       " 2016     2\n",
       " Name: year, dtype: int64,\n",
       " 2015    2\n",
       " Name: year, dtype: int64,\n",
       " 2006    288\n",
       " 2007    271\n",
       " 2013    174\n",
       " 2015    174\n",
       " 2008    154\n",
       " 2019    141\n",
       " 2018    117\n",
       " 2005    114\n",
       " 2004    104\n",
       " 2014     99\n",
       " 2010     98\n",
       " 2016     98\n",
       " 2012     87\n",
       " 2011     81\n",
       " 2020     60\n",
       " 2017     55\n",
       " 2009     49\n",
       " 2003      5\n",
       " Name: year, dtype: int64,\n",
       " 2007    1366\n",
       " 2008    1074\n",
       " 2009     997\n",
       " 2012     939\n",
       " 2006     938\n",
       " 2004     858\n",
       " 2010     856\n",
       " 2011     833\n",
       " 2014     788\n",
       " 2013     757\n",
       " 2015     724\n",
       " 2005     664\n",
       " 2019     606\n",
       " 2016     516\n",
       " 2018     480\n",
       " 2017     358\n",
       " 2020     265\n",
       " 2003     233\n",
       " 2002       1\n",
       " Name: year, dtype: int64,\n",
       " 2004    399\n",
       " 2008    344\n",
       " 2007    344\n",
       " 2006    340\n",
       " 2013    239\n",
       " 2005    231\n",
       " 2009    230\n",
       " 2015    226\n",
       " 2018    166\n",
       " 2011    139\n",
       " 2010    134\n",
       " 2012    130\n",
       " 2014    107\n",
       " 2016     84\n",
       " 2017     80\n",
       " 2019     65\n",
       " 2003     44\n",
       " 2020     43\n",
       " Name: year, dtype: int64,\n",
       " 2011    29\n",
       " 2010    25\n",
       " 2006    22\n",
       " 2008    22\n",
       " 2009    17\n",
       " 2005    10\n",
       " 2007     8\n",
       " 2012     6\n",
       " 2004     5\n",
       " 2019     5\n",
       " 2014     4\n",
       " 2016     4\n",
       " 2013     3\n",
       " 2018     2\n",
       " 2017     1\n",
       " 2020     1\n",
       " Name: year, dtype: int64,\n",
       " 2012    533\n",
       " 2013    360\n",
       " 2019    299\n",
       " 2015    296\n",
       " 2018    278\n",
       " 2014    271\n",
       " 2007    270\n",
       " 2010    264\n",
       " 2008    244\n",
       " 2011    233\n",
       " 2017    222\n",
       " 2016    218\n",
       " 2006    148\n",
       " 2020    142\n",
       " 2009    129\n",
       " 2004    115\n",
       " 2005    103\n",
       " Name: year, dtype: int64]"
      ]
     },
     "execution_count": 46,
     "metadata": {},
     "output_type": "execute_result"
    }
   ],
   "source": [
    "datestamp_counts = count_datestamp_values(clean_datestamp, names)\n",
    "datestamp_counts"
   ]
  },
  {
   "cell_type": "markdown",
   "metadata": {},
   "source": [
    "***Defining function***"
   ]
  },
  {
   "cell_type": "code",
   "execution_count": 47,
   "metadata": {
    "scrolled": true
   },
   "outputs": [],
   "source": [
    "def datestamp_counts_to_df(datestamp_counts, indice):\n",
    "    \n",
    "    df_datestamp_counts = pd.DataFrame(datestamp_counts, index = indice).sort_index(axis=1)\n",
    "    df_datestamp_counts = df_datestamp_counts.fillna(0)\n",
    "    df_datestamp_counts = df_datestamp_counts.T\n",
    "    \n",
    "    return df_datestamp_counts"
   ]
  },
  {
   "cell_type": "markdown",
   "metadata": {},
   "source": [
    "***Applying function***"
   ]
  },
  {
   "cell_type": "code",
   "execution_count": 48,
   "metadata": {
    "scrolled": true
   },
   "outputs": [
    {
     "data": {
      "text/html": [
       "<div>\n",
       "<style scoped>\n",
       "    .dataframe tbody tr th:only-of-type {\n",
       "        vertical-align: middle;\n",
       "    }\n",
       "\n",
       "    .dataframe tbody tr th {\n",
       "        vertical-align: top;\n",
       "    }\n",
       "\n",
       "    .dataframe thead th {\n",
       "        text-align: right;\n",
       "    }\n",
       "</style>\n",
       "<table border=\"1\" class=\"dataframe\">\n",
       "  <thead>\n",
       "    <tr style=\"text-align: right;\">\n",
       "      <th></th>\n",
       "      <th>África</th>\n",
       "      <th>Antártica</th>\n",
       "      <th>Ásia</th>\n",
       "      <th>Europa</th>\n",
       "      <th>América do Norte</th>\n",
       "      <th>Oceania</th>\n",
       "      <th>América do Sul</th>\n",
       "    </tr>\n",
       "  </thead>\n",
       "  <tbody>\n",
       "    <tr>\n",
       "      <th>2002</th>\n",
       "      <td>0.0</td>\n",
       "      <td>0.0</td>\n",
       "      <td>0.0</td>\n",
       "      <td>1.0</td>\n",
       "      <td>0.0</td>\n",
       "      <td>0.0</td>\n",
       "      <td>0.0</td>\n",
       "    </tr>\n",
       "    <tr>\n",
       "      <th>2003</th>\n",
       "      <td>0.0</td>\n",
       "      <td>0.0</td>\n",
       "      <td>5.0</td>\n",
       "      <td>233.0</td>\n",
       "      <td>44.0</td>\n",
       "      <td>0.0</td>\n",
       "      <td>0.0</td>\n",
       "    </tr>\n",
       "    <tr>\n",
       "      <th>2004</th>\n",
       "      <td>2.0</td>\n",
       "      <td>0.0</td>\n",
       "      <td>104.0</td>\n",
       "      <td>858.0</td>\n",
       "      <td>399.0</td>\n",
       "      <td>5.0</td>\n",
       "      <td>115.0</td>\n",
       "    </tr>\n",
       "    <tr>\n",
       "      <th>2005</th>\n",
       "      <td>14.0</td>\n",
       "      <td>0.0</td>\n",
       "      <td>114.0</td>\n",
       "      <td>664.0</td>\n",
       "      <td>231.0</td>\n",
       "      <td>10.0</td>\n",
       "      <td>103.0</td>\n",
       "    </tr>\n",
       "    <tr>\n",
       "      <th>2006</th>\n",
       "      <td>24.0</td>\n",
       "      <td>0.0</td>\n",
       "      <td>288.0</td>\n",
       "      <td>938.0</td>\n",
       "      <td>340.0</td>\n",
       "      <td>22.0</td>\n",
       "      <td>148.0</td>\n",
       "    </tr>\n",
       "    <tr>\n",
       "      <th>2007</th>\n",
       "      <td>13.0</td>\n",
       "      <td>0.0</td>\n",
       "      <td>271.0</td>\n",
       "      <td>1366.0</td>\n",
       "      <td>344.0</td>\n",
       "      <td>8.0</td>\n",
       "      <td>270.0</td>\n",
       "    </tr>\n",
       "    <tr>\n",
       "      <th>2008</th>\n",
       "      <td>12.0</td>\n",
       "      <td>0.0</td>\n",
       "      <td>154.0</td>\n",
       "      <td>1074.0</td>\n",
       "      <td>344.0</td>\n",
       "      <td>22.0</td>\n",
       "      <td>244.0</td>\n",
       "    </tr>\n",
       "    <tr>\n",
       "      <th>2009</th>\n",
       "      <td>13.0</td>\n",
       "      <td>0.0</td>\n",
       "      <td>49.0</td>\n",
       "      <td>997.0</td>\n",
       "      <td>230.0</td>\n",
       "      <td>17.0</td>\n",
       "      <td>129.0</td>\n",
       "    </tr>\n",
       "    <tr>\n",
       "      <th>2010</th>\n",
       "      <td>16.0</td>\n",
       "      <td>0.0</td>\n",
       "      <td>98.0</td>\n",
       "      <td>856.0</td>\n",
       "      <td>134.0</td>\n",
       "      <td>25.0</td>\n",
       "      <td>264.0</td>\n",
       "    </tr>\n",
       "    <tr>\n",
       "      <th>2011</th>\n",
       "      <td>20.0</td>\n",
       "      <td>0.0</td>\n",
       "      <td>81.0</td>\n",
       "      <td>833.0</td>\n",
       "      <td>139.0</td>\n",
       "      <td>29.0</td>\n",
       "      <td>233.0</td>\n",
       "    </tr>\n",
       "    <tr>\n",
       "      <th>2012</th>\n",
       "      <td>9.0</td>\n",
       "      <td>0.0</td>\n",
       "      <td>87.0</td>\n",
       "      <td>939.0</td>\n",
       "      <td>130.0</td>\n",
       "      <td>6.0</td>\n",
       "      <td>533.0</td>\n",
       "    </tr>\n",
       "    <tr>\n",
       "      <th>2013</th>\n",
       "      <td>23.0</td>\n",
       "      <td>0.0</td>\n",
       "      <td>174.0</td>\n",
       "      <td>757.0</td>\n",
       "      <td>239.0</td>\n",
       "      <td>3.0</td>\n",
       "      <td>360.0</td>\n",
       "    </tr>\n",
       "    <tr>\n",
       "      <th>2014</th>\n",
       "      <td>10.0</td>\n",
       "      <td>0.0</td>\n",
       "      <td>99.0</td>\n",
       "      <td>788.0</td>\n",
       "      <td>107.0</td>\n",
       "      <td>4.0</td>\n",
       "      <td>271.0</td>\n",
       "    </tr>\n",
       "    <tr>\n",
       "      <th>2015</th>\n",
       "      <td>8.0</td>\n",
       "      <td>2.0</td>\n",
       "      <td>174.0</td>\n",
       "      <td>724.0</td>\n",
       "      <td>226.0</td>\n",
       "      <td>0.0</td>\n",
       "      <td>296.0</td>\n",
       "    </tr>\n",
       "    <tr>\n",
       "      <th>2016</th>\n",
       "      <td>2.0</td>\n",
       "      <td>0.0</td>\n",
       "      <td>98.0</td>\n",
       "      <td>516.0</td>\n",
       "      <td>84.0</td>\n",
       "      <td>4.0</td>\n",
       "      <td>218.0</td>\n",
       "    </tr>\n",
       "    <tr>\n",
       "      <th>2017</th>\n",
       "      <td>7.0</td>\n",
       "      <td>0.0</td>\n",
       "      <td>55.0</td>\n",
       "      <td>358.0</td>\n",
       "      <td>80.0</td>\n",
       "      <td>1.0</td>\n",
       "      <td>222.0</td>\n",
       "    </tr>\n",
       "    <tr>\n",
       "      <th>2018</th>\n",
       "      <td>6.0</td>\n",
       "      <td>0.0</td>\n",
       "      <td>117.0</td>\n",
       "      <td>480.0</td>\n",
       "      <td>166.0</td>\n",
       "      <td>2.0</td>\n",
       "      <td>278.0</td>\n",
       "    </tr>\n",
       "    <tr>\n",
       "      <th>2019</th>\n",
       "      <td>2.0</td>\n",
       "      <td>0.0</td>\n",
       "      <td>141.0</td>\n",
       "      <td>606.0</td>\n",
       "      <td>65.0</td>\n",
       "      <td>5.0</td>\n",
       "      <td>299.0</td>\n",
       "    </tr>\n",
       "    <tr>\n",
       "      <th>2020</th>\n",
       "      <td>6.0</td>\n",
       "      <td>0.0</td>\n",
       "      <td>60.0</td>\n",
       "      <td>265.0</td>\n",
       "      <td>43.0</td>\n",
       "      <td>1.0</td>\n",
       "      <td>142.0</td>\n",
       "    </tr>\n",
       "  </tbody>\n",
       "</table>\n",
       "</div>"
      ],
      "text/plain": [
       "      África  Antártica   Ásia  Europa  América do Norte  Oceania  \\\n",
       "2002     0.0        0.0    0.0     1.0               0.0      0.0   \n",
       "2003     0.0        0.0    5.0   233.0              44.0      0.0   \n",
       "2004     2.0        0.0  104.0   858.0             399.0      5.0   \n",
       "2005    14.0        0.0  114.0   664.0             231.0     10.0   \n",
       "2006    24.0        0.0  288.0   938.0             340.0     22.0   \n",
       "2007    13.0        0.0  271.0  1366.0             344.0      8.0   \n",
       "2008    12.0        0.0  154.0  1074.0             344.0     22.0   \n",
       "2009    13.0        0.0   49.0   997.0             230.0     17.0   \n",
       "2010    16.0        0.0   98.0   856.0             134.0     25.0   \n",
       "2011    20.0        0.0   81.0   833.0             139.0     29.0   \n",
       "2012     9.0        0.0   87.0   939.0             130.0      6.0   \n",
       "2013    23.0        0.0  174.0   757.0             239.0      3.0   \n",
       "2014    10.0        0.0   99.0   788.0             107.0      4.0   \n",
       "2015     8.0        2.0  174.0   724.0             226.0      0.0   \n",
       "2016     2.0        0.0   98.0   516.0              84.0      4.0   \n",
       "2017     7.0        0.0   55.0   358.0              80.0      1.0   \n",
       "2018     6.0        0.0  117.0   480.0             166.0      2.0   \n",
       "2019     2.0        0.0  141.0   606.0              65.0      5.0   \n",
       "2020     6.0        0.0   60.0   265.0              43.0      1.0   \n",
       "\n",
       "      América do Sul  \n",
       "2002             0.0  \n",
       "2003             0.0  \n",
       "2004           115.0  \n",
       "2005           103.0  \n",
       "2006           148.0  \n",
       "2007           270.0  \n",
       "2008           244.0  \n",
       "2009           129.0  \n",
       "2010           264.0  \n",
       "2011           233.0  \n",
       "2012           533.0  \n",
       "2013           360.0  \n",
       "2014           271.0  \n",
       "2015           296.0  \n",
       "2016           218.0  \n",
       "2017           222.0  \n",
       "2018           278.0  \n",
       "2019           299.0  \n",
       "2020           142.0  "
      ]
     },
     "execution_count": 48,
     "metadata": {},
     "output_type": "execute_result"
    }
   ],
   "source": [
    "df_datestamp_counts = datestamp_counts_to_df(datestamp_counts, continents)\n",
    "df_datestamp_counts "
   ]
  },
  {
   "cell_type": "markdown",
   "metadata": {},
   "source": [
    "## Plotting Charts"
   ]
  },
  {
   "cell_type": "markdown",
   "metadata": {},
   "source": [
    "### ***Year of Document's Deposit for each Continent DataFrame***"
   ]
  },
  {
   "cell_type": "markdown",
   "metadata": {},
   "source": [
    "***Defining function***"
   ]
  },
  {
   "cell_type": "code",
   "execution_count": 56,
   "metadata": {},
   "outputs": [],
   "source": [
    "def datestamp_plot_by_continent(df, continent):  \n",
    "    \"\"\"This function count values for each year.\n",
    "    \n",
    "    Parameters\n",
    "    ----------\n",
    "        df : pandas DataFrame.\n",
    "            DataFrame containing years values count from each continent.\n",
    "        list_colors : list of str \n",
    "            List of strings with color hex codes.\n",
    "        continents : list of str\n",
    "            List of strings with the continents' names\n",
    "            \n",
    "        \n",
    "    Returns\n",
    "    -------\n",
    "        datestamp_counts : list.\n",
    "            List containing values count for each year.\n",
    "    \n",
    "    \"\"\"\n",
    "\n",
    "    for column, cont in zip(df, continent):\n",
    "        \n",
    "        plt.figure(figsize=(10, 5))\n",
    "\n",
    "        df[column].plot(color = \"gray\", grid=True, alpha = 0.8)\n",
    "        \n",
    "        # Add a legend\n",
    "        plt.legend(loc = 'upper right', ncol = 1)\n",
    "        plt.xlabel(\"Ano de depósito\", fontweight = 'bold')\n",
    "        plt.ylabel(\"Quantidade de documentos\", fontweight = 'bold')\n",
    "\n",
    "        \n",
    "        p1 = os.getcwd() \n",
    "        path = os.path.dirname(p1)\n",
    "        wdir = os.path.join(path, \"plots/datestamp\", \"\")\n",
    "\n",
    "        plt.tight_layout()\n",
    "        string1 = wdir + \"{}.png\".format(cont)\n",
    "        #plt.savefig(string1, dpi = 600, transparent = True)\n",
    "        plt.show()"
   ]
  },
  {
   "cell_type": "markdown",
   "metadata": {},
   "source": [
    "***Applying function***"
   ]
  },
  {
   "cell_type": "code",
   "execution_count": 57,
   "metadata": {},
   "outputs": [
    {
     "data": {
      "image/png": "[encoded data removed]",
      "text/plain": [
       "<Figure size 720x360 with 1 Axes>"
      ]
     },
     "metadata": {
      "needs_background": "light"
     },
     "output_type": "display_data"
    },
    {
     "data": {
      "image/png": "[encoded data removed]",
      "text/plain": [
       "<Figure size 720x360 with 1 Axes>"
      ]
     },
     "metadata": {
      "needs_background": "light"
     },
     "output_type": "display_data"
    },
    {
     "data": {
      "image/png": "[encoded data removed]",
      "text/plain": [
       "<Figure size 720x360 with 1 Axes>"
      ]
     },
     "metadata": {
      "needs_background": "light"
     },
     "output_type": "display_data"
    },
    {
     "data": {
      "image/png": "[encoded data removed]",
      "text/plain": [
       "<Figure size 720x360 with 1 Axes>"
      ]
     },
     "metadata": {
      "needs_background": "light"
     },
     "output_type": "display_data"
    },
    {
     "data": {
      "image/png": "[encoded data removed]",
      "text/plain": [
       "<Figure size 720x360 with 1 Axes>"
      ]
     },
     "metadata": {
      "needs_background": "light"
     },
     "output_type": "display_data"
    },
    {
     "data": {
      "image/png": "[encoded data removed]",
      "text/plain": [
       "<Figure size 720x360 with 1 Axes>"
      ]
     },
     "metadata": {
      "needs_background": "light"
     },
     "output_type": "display_data"
    },
    {
     "data": {
      "image/png": "[encoded data removed]",
      "text/plain": [
       "<Figure size 720x360 with 1 Axes>"
      ]
     },
     "metadata": {
      "needs_background": "light"
     },
     "output_type": "display_data"
    }
   ],
   "source": [
    "#cnames_plot = ['#FFC909', '#B3DEFF', '#35B39F', '#FF8582', '#FF7C52', '#327BB3', '#B33B36']\n",
    "\n",
    "datestamp_plot_by_continent(df_datestamp_counts, continents)"
   ]
  },
  {
   "cell_type": "markdown",
   "metadata": {},
   "source": [
    "### ***Deposit date comparison between continents***"
   ]
  },
  {
   "cell_type": "markdown",
   "metadata": {},
   "source": [
    "***Defining function***"
   ]
  },
  {
   "cell_type": "markdown",
   "metadata": {},
   "source": [
    "# VER SE CONSEGUE DIMINUIR O XTICKS PARA PULAR DE 2 EM 2 ANOS NO GRÁFICO"
   ]
  },
  {
   "cell_type": "code",
   "execution_count": 109,
   "metadata": {},
   "outputs": [],
   "source": [
    "def datestamp_ww_plot(df_datestamp_counts, column_name, list_colors):  \n",
    "    \"\"\"This function plots a worldwide chart comparing year of documents' deposit by continent.\n",
    "    \n",
    "    Parameters\n",
    "    ----------\n",
    "        df_datestamp_counts : pandas DataFrame\n",
    "            Dataframe containing values counts for each year by continent.\n",
    "        column_name : list of str \n",
    "            List of strings with column names of the DataFrame\n",
    "        list_colors : list of str\n",
    "            List of strings with color hex codes.\n",
    "        \n",
    "    Returns\n",
    "    -------\n",
    "        No value.\n",
    "    \n",
    "    \"\"\"\n",
    "    \n",
    "    plt.figure(figsize = (20,5))\n",
    "    \n",
    "    # Plot\n",
    "    \n",
    "    df_datestamp_counts[column_name].plot(figsize=(10, 5), color = list_colors, grid = True)\n",
    "    \n",
    "    # Configure image\n",
    "    plt.legend(loc = 'upper left', bbox_to_anchor = (1,1), ncol = 1)\n",
    "    plt.xlabel('Ano de depósito', fontweight='bold')\n",
    "    tickvalues = df_datestamp_counts.index    \n",
    "    labellist = ['2002', '2003', '2004', '2005', '2006', '2007', '2008', '2009', '2010', '2011', '2012', \n",
    "                 '2003', '2014', '2015', '2016', '2017', '2018', '2019', '2020']\n",
    "    \n",
    "    plt.xticks(range(19), labels = labellist, rotation=45)\n",
    "    plt.ylabel('Quantidade de documentos depositados', fontweight='bold')\n",
    "    plt.margins(x=0)\n",
    "    \n",
    "    p1 = os.getcwd() \n",
    "    path = os.path.dirname(p1)\n",
    "    wdir = os.path.join(path, \"plots/datestamp\", \"\")\n",
    "\n",
    "    # Save figure\n",
    "    plt.tight_layout()\n",
    "    string = wdir + \"worldwide_comparison_grid.png\"\n",
    "    plt.savefig(string, dpi = 600, transparent = True)\n",
    "    plt.show()"
   ]
  },
  {
   "cell_type": "markdown",
   "metadata": {},
   "source": [
    "***Applying function***"
   ]
  },
  {
   "cell_type": "code",
   "execution_count": 110,
   "metadata": {},
   "outputs": [
    {
     "data": {
      "text/plain": [
       "<Figure size 1440x360 with 0 Axes>"
      ]
     },
     "metadata": {},
     "output_type": "display_data"
    },
    {
     "data": {
      "image/png": "[encoded data removed]",
      "text/plain": [
       "<Figure size 720x360 with 1 Axes>"
      ]
     },
     "metadata": {
      "needs_background": "light"
     },
     "output_type": "display_data"
    }
   ],
   "source": [
    "cnames_plot = ['#B33B36', '#FF7C52','#FFC909', 'red', '#B3DEFF', '#35B39F', '#327BB3']\n",
    "\n",
    "datestamp_ww_plot(df_datestamp_counts, continents, cnames)"
   ]
  },
  {
   "cell_type": "markdown",
   "metadata": {},
   "source": [
    "### ***Logaritimic Deposit Date comparison between continents***"
   ]
  },
  {
   "cell_type": "markdown",
   "metadata": {},
   "source": [
    "***Defining function***"
   ]
  },
  {
   "cell_type": "code",
   "execution_count": null,
   "metadata": {
    "scrolled": true
   },
   "outputs": [],
   "source": [
    "def datestamp_logaritimic_plot(df_datestamp_counts, list_colors):\n",
    "    \"\"\"This function plots a worldwide logaritimic chart comparing year of documents' deposit by continent.\n",
    "    \n",
    "    Parameters\n",
    "    ----------\n",
    "        df_datestamp_counts : pandas DataFrame\n",
    "            Dataframe containing values counts for each year by continent.\n",
    "        list_colors : list of str\n",
    "            List of strings with color hex codes.\n",
    "        \n",
    "    Returns\n",
    "    -------\n",
    "        No value.\n",
    "    \n",
    "    \"\"\"\n",
    "    \n",
    "    df_datestamp_counts.plot(figsize=(10, 5), logy = True, color = list_colors, alpha = 0.8)\n",
    "\n",
    "    # Configure image\n",
    "\n",
    "    plt.legend(loc = 'upper left', bbox_to_anchor = (1,1), ncol = 1)\n",
    "    plt.xlabel('Ano de depósito', fontweight='bold')\n",
    "    plt.ylabel('Quantidade de documentos depositados', fontweight='bold')\n",
    "    #plt.xticks(rotation=90)\n",
    "    plt.margins(x=0)\n",
    "    plt.minorticks_off()\n",
    "\n",
    "    pvalues = [10**0, 10**1, 10**2, 10**3]\n",
    "    plabels = [0, 100, 1000, 2500]\n",
    "\n",
    "    plt.yticks(pvalues,plabels)\n",
    "    \n",
    "    # Working directory\n",
    "    p1 = os.getcwd() \n",
    "    path = os.path.dirname(p1)\n",
    "    wdir = os.path.join(path, \"plots/datestamp\", \"\")\n",
    "\n",
    "    # Save figure\n",
    "\n",
    "    plt.tight_layout()\n",
    "    plt.savefig(wdir + 'worldwide_log_comparison.png', dpi = 600, transparent = True)\n",
    "    plt.show()"
   ]
  },
  {
   "cell_type": "markdown",
   "metadata": {},
   "source": [
    "***Applying function***"
   ]
  },
  {
   "cell_type": "code",
   "execution_count": null,
   "metadata": {
    "scrolled": true
   },
   "outputs": [],
   "source": [
    "datestamp_logaritimic_plot(df_datestamp_counts, cnames_plot)"
   ]
  },
  {
   "cell_type": "markdown",
   "metadata": {},
   "source": [
    "# YEAR OF PUBLICATION ANALYSIS"
   ]
  },
  {
   "cell_type": "markdown",
   "metadata": {},
   "source": [
    "## Organizing Data"
   ]
  },
  {
   "cell_type": "markdown",
   "metadata": {},
   "source": [
    "***Defining function***"
   ]
  },
  {
   "cell_type": "code",
   "execution_count": null,
   "metadata": {
    "scrolled": true
   },
   "outputs": [],
   "source": [
    "def get_year_from_date(filenames, names):\n",
    "    \"\"\"This function selects data from column 'date' and extracts string corresponding to year.\n",
    "    \n",
    "    Parameters\n",
    "    ----------\n",
    "        filenames : list of strings.\n",
    "            List of csv files on its path.\n",
    "        names : list of str \n",
    "            names of the files, ex: [\"africa.csv\"]\n",
    "        \n",
    "    Returns\n",
    "    -------\n",
    "        date_list : list.\n",
    "            List of selected columns (datestamp, continent), the added column 'year' and corresponding values.\n",
    "    \n",
    "    \"\"\"\n",
    "\n",
    "    date_list = []\n",
    "    \n",
    "    for filename in filenames:\n",
    "        open_file = pd.read_csv(filename)\n",
    "        date_file = open_file.loc[:, ['handle', 'date']]\n",
    "        date_file['year'] = date_file['date'].astype(str).str[0:4]\n",
    "        date_list.append(date_file)\n",
    "        \n",
    "    return date_list"
   ]
  },
  {
   "cell_type": "markdown",
   "metadata": {},
   "source": [
    "***Applying function***"
   ]
  },
  {
   "cell_type": "code",
   "execution_count": null,
   "metadata": {
    "scrolled": true
   },
   "outputs": [],
   "source": [
    "date_list = get_year_from_date(filenames, names)\n",
    "date_list"
   ]
  },
  {
   "cell_type": "markdown",
   "metadata": {},
   "source": [
    "***Defining function***"
   ]
  },
  {
   "cell_type": "code",
   "execution_count": null,
   "metadata": {},
   "outputs": [],
   "source": [
    "def date_dropna(date_list, names):\n",
    "    \"\"\"This function deletes NaN values.\n",
    "    \n",
    "    Parameters\n",
    "    ----------\n",
    "        date_list : list.\n",
    "            List of selected columns (datestamp, continent), the added column 'year' and corresponding values.\n",
    "        names : list of str \n",
    "            names of the files, ex: [\"africa.csv\"]\n",
    "        \n",
    "    Returns\n",
    "    -------\n",
    "        clean_date : list.\n",
    "            List without NaN values, clean version of datestamp_list\n",
    "    \n",
    "    \"\"\"\n",
    "\n",
    "\n",
    "    clean_date = []\n",
    "\n",
    "    for df in date_list:\n",
    "        clean = df.dropna()\n",
    "        clean_date.append(clean)\n",
    "\n",
    "\n",
    "    # Working directory\n",
    "    p1 = os.getcwd() \n",
    "    path = os.path.dirname(p1)\n",
    "    wdir = os.path.join(path, \"db_generated/date\", \"\")\n",
    "    \n",
    "\n",
    "    for df_data, name in zip(clean_date, names):\n",
    "        df_data.to_csv(wdir + \"{}\".format(name))\n",
    "    \n",
    "    return clean_date"
   ]
  },
  {
   "cell_type": "markdown",
   "metadata": {},
   "source": [
    "***Applying function***"
   ]
  },
  {
   "cell_type": "code",
   "execution_count": null,
   "metadata": {
    "scrolled": true
   },
   "outputs": [],
   "source": [
    "clean_date = date_dropna(date_list, names)\n",
    "clean_date"
   ]
  },
  {
   "cell_type": "markdown",
   "metadata": {},
   "source": [
    "***Defining function***"
   ]
  },
  {
   "cell_type": "code",
   "execution_count": null,
   "metadata": {
    "scrolled": true
   },
   "outputs": [],
   "source": [
    "def count_date_values(clean_date, names):\n",
    "    \"\"\"This function count values for each year.\n",
    "    \n",
    "    Parameters\n",
    "    ----------\n",
    "        clean_date : list.\n",
    "            List without NaN values, clean version of date_list.\n",
    "        names : list of str \n",
    "            names of the files, ex: [\"africa.csv\"]\n",
    "        \n",
    "    Returns\n",
    "    -------\n",
    "        date_counts : list.\n",
    "            List containing values count for each year.\n",
    "    \n",
    "    \"\"\"\n",
    "\n",
    "    date_counts = []\n",
    "\n",
    "    for df in clean_date:\n",
    "        date_ct = df['year'].value_counts()\n",
    "        date_counts.append(date_ct)\n",
    "\n",
    "    p1 = os.getcwd() \n",
    "    path = os.path.dirname(p1)\n",
    "    wdir = os.path.join(path, \"db_generated/date\", \"\")\n",
    "\n",
    "    for df_data, name in zip(date_counts, names):\n",
    "        df_data.to_csv(wdir + \"{}_counts\".format(name))\n",
    "    \n",
    "    return date_counts"
   ]
  },
  {
   "cell_type": "markdown",
   "metadata": {},
   "source": [
    "***Applying function***"
   ]
  },
  {
   "cell_type": "code",
   "execution_count": null,
   "metadata": {
    "scrolled": true
   },
   "outputs": [],
   "source": [
    "date_counts = count_date_values(clean_date, names)\n",
    "date_counts"
   ]
  },
  {
   "cell_type": "markdown",
   "metadata": {},
   "source": [
    "***Defining function***"
   ]
  },
  {
   "cell_type": "code",
   "execution_count": null,
   "metadata": {
    "scrolled": true
   },
   "outputs": [],
   "source": [
    "def date_counts_to_df(date_counts, indice):\n",
    "    \n",
    "    df_date_counts = pd.DataFrame(date_counts, index = indice).sort_index(axis=1)\n",
    "    df_date_counts = df_date_counts.fillna(0)\n",
    "    df_date_counts = df_date_counts.T       \n",
    "    \n",
    "    return df_date_counts"
   ]
  },
  {
   "cell_type": "markdown",
   "metadata": {},
   "source": [
    "***Applying function***"
   ]
  },
  {
   "cell_type": "code",
   "execution_count": null,
   "metadata": {
    "scrolled": true
   },
   "outputs": [],
   "source": [
    "df_date_counts = date_counts_to_df(date_counts, continents)\n",
    "df_date_counts"
   ]
  },
  {
   "cell_type": "code",
   "execution_count": null,
   "metadata": {
    "scrolled": true
   },
   "outputs": [],
   "source": [
    "# Selecting years above 1990, before this year that aren't much representation\n",
    "df_date_counts = df_date_counts[19: ]"
   ]
  },
  {
   "cell_type": "markdown",
   "metadata": {},
   "source": [
    "## Plotting Charts"
   ]
  },
  {
   "cell_type": "markdown",
   "metadata": {},
   "source": [
    "### ***Year of Publication for each Continent DataFrame***"
   ]
  },
  {
   "cell_type": "markdown",
   "metadata": {},
   "source": [
    "***Defining function***"
   ]
  },
  {
   "cell_type": "code",
   "execution_count": null,
   "metadata": {},
   "outputs": [],
   "source": [
    "def date_plot_by_continent(df, continent):  \n",
    "    \"\"\"This function count values for each year.\n",
    "    \n",
    "    Parameters\n",
    "    ----------\n",
    "        df : pandas DataFrame.\n",
    "            DataFrame containing years values count from each continent.\n",
    "        list_colors : list of str \n",
    "            List of strings with color hex codes.\n",
    "        continents : list of str\n",
    "            List of strings with the continents' names\n",
    "            \n",
    "        \n",
    "    Returns\n",
    "    -------\n",
    "        No value.\n",
    "    \n",
    "    \"\"\"\n",
    "\n",
    "    for column, cont in zip(df, continent):\n",
    "        \n",
    "        df[column].plot(color = \"gray\", alpha = 0.8)\n",
    "              \n",
    "        p1 = os.getcwd() \n",
    "        path = os.path.dirname(p1)\n",
    "        wdir = os.path.join(path, \"plots/date\", \"\")\n",
    "\n",
    "        plt.tight_layout()\n",
    "        #plt.savefig(wdir + \"{}.png\".format(cont), dpi = 600, transparent = True)\n",
    "        plt.show()"
   ]
  },
  {
   "cell_type": "markdown",
   "metadata": {},
   "source": [
    "***Applying function***"
   ]
  },
  {
   "cell_type": "code",
   "execution_count": null,
   "metadata": {},
   "outputs": [],
   "source": [
    "#cnames_plot = ['#FFC909', '#B3DEFF', '#35B39F', '#FF8582', '#FF7C52', '#327BB3', '#B33B36']\n",
    "\n",
    "date_plot_by_continent(df_date_counts, continents)"
   ]
  },
  {
   "cell_type": "markdown",
   "metadata": {},
   "source": [
    "### ***Publication date comparison between continents***"
   ]
  },
  {
   "cell_type": "markdown",
   "metadata": {},
   "source": [
    "***Defining function***"
   ]
  },
  {
   "cell_type": "code",
   "execution_count": null,
   "metadata": {},
   "outputs": [],
   "source": [
    "def date_ww_plot(df_date_counts, column_name, list_colors):  \n",
    "    \"\"\"This function plots a worldwide chart comparing year of documents' deposit by continent.\n",
    "    \n",
    "    Parameters\n",
    "    ----------\n",
    "        df_datestamp_counts : pandas DataFrame\n",
    "            Dataframe containing values counts for each year by continent.\n",
    "        column_name : list of str \n",
    "            List of strings with column names of the DataFrame\n",
    "        list_colors : list of str\n",
    "            List of strings with color hex codes.\n",
    "        \n",
    "    Returns\n",
    "    -------\n",
    "        No value.\n",
    "    \n",
    "    \"\"\"\n",
    "    \n",
    "    # Plot\n",
    "    df_date_counts[column_name].plot(figsize=(10, 5), color = list_colors, alpha = 0.8)\n",
    "    \n",
    "    # Configure image\n",
    "    plt.legend(loc = 'upper left', bbox_to_anchor = (1,1), ncol = 1)\n",
    "    plt.xlabel('Ano de publicação', fontweight='bold')\n",
    "    plt.xticks(rotation=90)\n",
    "    plt.ylabel('Quantidade de publicações', fontweight='bold')\n",
    "    plt.margins(x=0)\n",
    "    \n",
    "    p1 = os.getcwd() \n",
    "    path = os.path.dirname(p1)\n",
    "    wdir = os.path.join(path, \"plots/date\", \"\")\n",
    "\n",
    "    # Save figure\n",
    "    plt.tight_layout()\n",
    "    string = wdir + \"worldwide_comparison.png\"\n",
    "    #plt.savefig(string, dpi = 600, transparent = True)\n",
    "    plt.show()"
   ]
  },
  {
   "cell_type": "markdown",
   "metadata": {},
   "source": [
    "***Applying function***"
   ]
  },
  {
   "cell_type": "code",
   "execution_count": null,
   "metadata": {},
   "outputs": [],
   "source": [
    "date_ww_plot(df_date_counts, continents, cnames_plot)"
   ]
  },
  {
   "cell_type": "markdown",
   "metadata": {},
   "source": [
    "### ***Logaritimic Publication Date comparison between continents***"
   ]
  },
  {
   "cell_type": "markdown",
   "metadata": {},
   "source": [
    "***Defining function***"
   ]
  },
  {
   "cell_type": "code",
   "execution_count": null,
   "metadata": {
    "scrolled": true
   },
   "outputs": [],
   "source": [
    "def date_logaritimic_plot(df_date_counts, list_colors):\n",
    "    \"\"\"This function plots a worldwide logaritimic chart comparing year of documents' deposit by continent.\n",
    "    \n",
    "    Parameters\n",
    "    ----------\n",
    "        df_date_counts : pandas DataFrame\n",
    "            Dataframe containing values counts for each year by continent.\n",
    "        list_colors : list of str\n",
    "            List of strings with color hex codes.\n",
    "        \n",
    "    Returns\n",
    "    -------\n",
    "        No value.\n",
    "    \n",
    "    \"\"\"\n",
    "    \n",
    "    df_date_counts.plot(figsize=(10, 5), logy = True, color = list_colors, alpha = 0.8)\n",
    "\n",
    "    # Configure image\n",
    "\n",
    "    plt.legend(loc = 'upper left', bbox_to_anchor = (1,1), ncol = 1)\n",
    "    plt.xlabel('Ano de publicação', fontweight='bold')\n",
    "    plt.ylabel('Quantidade de publicações', fontweight='bold')\n",
    "    #plt.xticks(rotation=90)\n",
    "    plt.margins(x=0)\n",
    "    plt.minorticks_off()\n",
    "\n",
    "    pvalues = [10**0, 10**1, 10**2, 10**3]\n",
    "    plabels = [0, 10, 100, 1000]\n",
    "\n",
    "    plt.yticks(pvalues,plabels)\n",
    "    \n",
    "    # Working directory\n",
    "    p1 = os.getcwd() \n",
    "    path = os.path.dirname(p1)\n",
    "    wdir = os.path.join(path, \"plots/date\", \"\")\n",
    "\n",
    "    # Save figure\n",
    "\n",
    "    plt.tight_layout()\n",
    "    #plt.savefig(wdir + 'worldwide_log_comparison.png', dpi = 600, transparent = True)\n",
    "    plt.show()"
   ]
  },
  {
   "cell_type": "markdown",
   "metadata": {},
   "source": [
    "***Applying function***"
   ]
  },
  {
   "cell_type": "code",
   "execution_count": null,
   "metadata": {
    "scrolled": true
   },
   "outputs": [],
   "source": [
    "date_logaritimic_plot(df_date_counts, cnames_plot)"
   ]
  },
  {
   "cell_type": "markdown",
   "metadata": {},
   "source": [
    "# SUBJECT ANALYSIS"
   ]
  },
  {
   "cell_type": "markdown",
   "metadata": {},
   "source": [
    "## Organizing Data"
   ]
  },
  {
   "cell_type": "markdown",
   "metadata": {},
   "source": [
    "***Defining function***"
   ]
  },
  {
   "cell_type": "code",
   "execution_count": null,
   "metadata": {},
   "outputs": [],
   "source": [
    "subjects_dict = {\n",
    "    \"A.\" : \"Aspectos teóricos e gerais de bibliotecas e informação\",\n",
    "    \"AA\" : \"Biblioteconomia e Ciência da Informação (CI) como um campo\", \n",
    "    \"AB\" : \"Teoria da informação e teoria de bibliotecas\",\n",
    "    \"AC\" : \"Relacionamento da Biblioteconomia e CI com outros campos\", \n",
    "    \"AZ\" : \"Nenhum destes, mas na seção A.\",\n",
    "    \"B.\" : \"Uso da informação e sociologia da informação\",\n",
    "    \"BA\" : \"Uso e impacto da informação\",\n",
    "    \"BB\" : \"Métodos bibliométricos\",\n",
    "    \"BC\" : \"Informação na sociedade\",\n",
    "    \"BD\" : \"Sociedade da informação\",\n",
    "    \"BE\" : \"Economia da informação\",\n",
    "    \"BF\" : \"Política da informação\",\n",
    "    \"BG\" : \"Disseminação e difusão da informação\",\n",
    "    \"BH\" : \"Necessidades de informação e análise de requisitos de informação\",\n",
    "    \"BI\" : \"Interfaces de usuário, usabilidade\",\n",
    "    \"BZ\" : \"Nenhum destes, mas na seção B.\",\n",
    "    \"C.\" : \"Usuários, nível de instrução e leitura\",\n",
    "    \"CA\" : \"Estudos de uso\",\n",
    "    \"CB\" : \"Estudos de usuário\",\n",
    "    \"CC\" : \"Categorias de usuários: crianças, jovens, grupos sociais\",\n",
    "    \"CD\" : \"Treinamento de usuários, promoções, atividades, educação\",\n",
    "    \"CE\" : \"Instrução literária\",\n",
    "    \"CF\" : \"Leitura e narração de estórias\",\n",
    "    \"CZ\" : \"Nenhum destes, mas na seção C.\",\n",
    "    \"D.\" : \"Bibliotecas como coleções físicas\",\n",
    "    \"DA\" : \"Bibliotecas Mundiais\",\n",
    "    \"DB\" : \"Bibliotecas Nacionais\",\n",
    "    \"DC\" : \"Bibliotecas Públicas\",\n",
    "    \"DD\" : \"Bibliotecas de Instituições de Ensino Superior\",\n",
    "    \"DE\" : \"Bibliotecas escolares\",\n",
    "    \"DF\" : \"Bibliotecas governamentais\",\n",
    "    \"DG\" : \"Bibliotecas Particulares\",\n",
    "    \"DH\" : \"Bibliotecas especializadas\",\n",
    "    \"DI\" : \"Bibliotecas científicas\",\n",
    "    \"DJ\" : \"Bibliotecas técnicas\",\n",
    "    \"DK\" : \"Bibliotecas de Saúde e Medicina\",\n",
    "    \"DL\" : \"Arquivos\",\n",
    "    \"DM\" : \"Museus\",\n",
    "    \"DZ\" : \"Nenhum destes, mas na seção D.\",\n",
    "    \"E.\" : \"Publicação e questões legais\",\n",
    "    \"EA\" : \"Meios de comunicação de massa\",\n",
    "    \"EB\" : \"Impressão, publicação eletrônica, transmissão\",\n",
    "    \"EC\" : \"Venda de livros\",\n",
    "    \"ED\" : \"Propriedade intelectual: os direitos de autor, propriedade, direitos autorais e copyleft\",\n",
    "    \"EE\" : \"Liberdade intelectual\",\n",
    "    \"EF\" : \"Censura\",\n",
    "    \"EZ\" : \"Nenhum destes, mas na seção E.\",\n",
    "    \"F.\" : \"Gerenciamento\",\n",
    "    \"FA\" : \"Cooperação\",\n",
    "    \"FB\" : \"Marketing\",\n",
    "    \"FC\" : \"Finanças\",\n",
    "    \"FD\" : \"Relações Públicas\",\n",
    "    \"FE\" : \"Gestão de Recursos Humanos\",\n",
    "    \"FF\" : \"Recursos Financeiros\",\n",
    "    \"FG\" : \"Governo Local\",\n",
    "    \"FH\" : \"Reorganização\",\n",
    "    \"FI\" : \"Autoridades Centrais\",\n",
    "    \"FJ\" : \"Gestão do Conhecimento\",\n",
    "    \"FZ\" : \"Nenhum destes, mas na seção F.\",\n",
    "    \"G.\" : \"Indústria, profissão e formação\",\n",
    "    \"GA\" : \"Indústria da informação\",\n",
    "    \"GB\" : \"Indústria de software\", \n",
    "    \"GC\" : \"Indústria de computadores e telecomunicações\",\n",
    "    \"GD\" : \"Organizações\",\n",
    "    \"GE\" : \"Empregados\",\n",
    "    \"GF\" : \"Biografias\",\n",
    "    \"GG\" : \"Aspectos curriculares\",\n",
    "    \"GH\" : \"Formação\",\n",
    "    \"GI\" : \"Treinamento\",\n",
    "    \"GZ\" : \"Nenhum destes, mas na seção G.\",\n",
    "    \"H.\" : \"Fontes de informação, suportes e canais\",\n",
    "    \"HA\" : \"Periódicos, Publicações\",\n",
    "    \"HB\" : \"Literatura cinzenta\",\n",
    "    \"HC\" : \"Documentos de arquivo\",\n",
    "    \"HD\" : \"Livros raros e manuscritos\",\n",
    "    \"HE\" : \"Impressos em geral\",\n",
    "    \"HF\" : \"Microformas\",\n",
    "    \"HG\" : \"Material não impresso, mimeografado, datilografado, manuscrito etc.\",\n",
    "    \"HH\" : \"Audiovisual, Multimídia\",\n",
    "    \"HI\" : \"Mídia eletrônica\",\n",
    "    \"HJ\" : \"CD-ROM\",\n",
    "    \"HK\" : \"Servidores on-line\",\n",
    "    \"HL\" : \"Bases de Dados e Redes\",\n",
    "    \"HM\" : \"Catálogos on-line de acesso público (OPAC's)\",\n",
    "    \"HN\" : \"Periódicos eletrônicos\",\n",
    "    \"HO\" : \"Livros eletrônicos\",\n",
    "    \"HP\" : \"Recursos eletrônicos\",\n",
    "    \"HQ\" : \"Páginas da Web\",\n",
    "    \"HR\" : \"Portais\",\n",
    "    \"HS\" : \"Repositórios (baseado ou não em OAI)\",\n",
    "    \"HT\" : \"Web 2.0, Redes Sociais\",\n",
    "    \"HZ\" : \"Nenhum destes, mas na seção H.\",\n",
    "    \"I.\" : \"Tratamento da informação para serviços de informação\",\n",
    "    \"IA\" : \"Catalogação, controle bibliográfico\",\n",
    "    \"IB\" : \"Análise de conteúdo (indexação, resumos, classificação)\",\n",
    "    \"IC\" : \"Linguagens de indexação, processos e esquemas\",\n",
    "    \"ID\" : \"Estruturas de dados e de metadados\",\n",
    "    \"IE\" : \"Representação do conhecimento\",\n",
    "    \"IF\" : \"Transferência da informação: protocolos, formatos, técnicas\",\n",
    "    \"IG\" : \"Apresentação da informação: hipertexto, hipermídia\",\n",
    "    \"IH\" : \"Sistemas de imagens\",\n",
    "    \"II\" : \"Filtros e sistemas de filtragem\",\n",
    "    \"IJ\" : \"Hiperlinks de referência\",\n",
    "    \"IK\" : \"Projeto, desenvolvimento, implementação e manutenção\",\n",
    "    \"IL\" : \"Web Semântica\",\n",
    "    \"IZ\" : \"Nenhum destes, mas na seção I.\",\n",
    "    \"J.\" : \"Serviços técnicos em bibliotecas, arquivos e museus\",\n",
    "    \"JA\" : \"Aquisição\",\n",
    "    \"JB\" : \"Seriados (gerenciamento)\",\n",
    "    \"JC\" : \"Descarte\",\n",
    "    \"JD\" : \"Inventário\",\n",
    "    \"JE\" : \"Manutenção de registros (cadastros)\",\n",
    "    \"JF\" : \"Preservação de documentos em papel\",\n",
    "    \"JG\" : \"Digitalização\",\n",
    "    \"JH\" : \"Preservação digital\",\n",
    "    \"JI\" : \"Circulação\",\n",
    "    \"JJ\" : \"Disseminação de Documentos\",\n",
    "    \"JK\" : \"Empréstimo interbibliotecário\",\n",
    "    \"JZ\" : \"Nenhum destes, mas na seção J.\", \n",
    "    \"K.\" : \"Técnicas de Armazenamento\",\n",
    "    \"KA\" : \"Centros de recursos\",\n",
    "    \"KB\" : \"Edifícios de bibliotecas, arquivos e museus\",\n",
    "    \"KC\" : \"Mobiliário\",\n",
    "    \"KD\" : \"Veículos\",\n",
    "    \"KE\" : \"Arquitetura\",\n",
    "    \"KF\" : \"Planejamento, projeto, mudança\",\n",
    "    \"KG\" : \"Segurança\",\n",
    "    \"KH\" : \"Situações de calamidade\",\n",
    "    \"KZ\" : \"Nenhum destes, mas na seção K.\",\n",
    "    \"L.\" : \"Tecnologia da informação e tecnologia de biblioteca\",\n",
    "    \"LA\" : \"Telecomunicações\",\n",
    "    \"LB\" : \"Rede de computadores\",\n",
    "    \"LC\" : \"Internet, inclusive WWW\",\n",
    "    \"LD\" : \"Computadores\",\n",
    "    \"LE\" : \"Scanners\",\n",
    "    \"LF\" : \"Câmeras digitais\",\n",
    "    \"LG\" : \"Fotocopiadoras\",\n",
    "    \"LH\" : \"Segurança de computadores e redes\",\n",
    "    \"LI\" : \"Autenticação e controle de acesso\",\n",
    "    \"LJ\" : \"Software\",\n",
    "    \"LK\" : \"Metodologia e engenharia de softwares\",\n",
    "    \"LL\" : \"Processamento automatizado de idiomas\",\n",
    "    \"LM\" : \"Recuperação automática de texto\",\n",
    "    \"LN\" : \"Sistemas de gerenciamento de bases de dados\",\n",
    "    \"LO\" : \"Sistemas de Gerenciamento de Bancos de Dados orientados a objetos\",\n",
    "    \"LP\" : \"Agentes inteligentes\",\n",
    "    \"LQ\" : \"Sistemas de automação de bibliotecas\",\n",
    "    \"LR\" : \"Sistemas de OPACs\",\n",
    "    \"LS\" :  \"Mecanismos de busca\",\n",
    "    \"LT\" : \"Dispositivos móveis\",\n",
    "    \"LZ\" : \"Nenhum destes, mas na seção L.\",\n",
    "}"
   ]
  },
  {
   "cell_type": "code",
   "execution_count": null,
   "metadata": {
    "scrolled": true
   },
   "outputs": [],
   "source": [
    "subjects_dict_keys = list(subjects_dict.keys())\n",
    "subjects_dict_keys"
   ]
  },
  {
   "cell_type": "code",
   "execution_count": null,
   "metadata": {},
   "outputs": [],
   "source": [
    "subjects_df_list = []\n",
    "\n",
    "for filename in filenames:\n",
    "    df_sbj = pd.read_csv(filename)\n",
    "    df_subject = pd.DataFrame(df_sbj)\n",
    "    subjects_df_list.append(df_subject) "
   ]
  },
  {
   "cell_type": "code",
   "execution_count": null,
   "metadata": {
    "scrolled": true
   },
   "outputs": [],
   "source": [
    "subjects_df_list[0]"
   ]
  },
  {
   "cell_type": "code",
   "execution_count": null,
   "metadata": {
    "scrolled": true
   },
   "outputs": [],
   "source": [
    "def get_subjects(df):\n",
    "    \"\"\"This function gets all subjects notation from JITA Classification System found in dataframe.\n",
    "    \n",
    "    Parameters\n",
    "    ----------\n",
    "        df : pandas DataFrame.\n",
    "            Dataframe containing subjects notation from JITA Classification System.\n",
    "        \n",
    "    Returns\n",
    "    -------\n",
    "        subjects_list : list\n",
    "            Returns a list containing all the subjects notation found in df.\n",
    "    \n",
    "    \"\"\"\n",
    "    \n",
    "    matches = df.isin(subjects_dict_keys).any()\n",
    "    \n",
    "    column_matches = matches.index[matches == True]\n",
    "    string = '_name.' #editors_name, creators_name\n",
    "    exclude_columns = [i for i in column_matches if string in i] \n",
    "    column_matches = column_matches.drop(exclude_columns)\n",
    "    # exclude editors_name family cuz they are talking about another stuff, like people's name. \n",
    "    print(column_matches)\n",
    "    \n",
    "    matches_dict = dict.fromkeys(column_matches)\n",
    "    \n",
    "    for col in matches_dict.keys():\n",
    "        row_matches = df[col].isin(subjects_dict_keys)\n",
    "        matches_dict[col] = row_matches.index[row_matches == True]\n",
    "        \n",
    "    col_match_dict = list(matches_dict.keys())\n",
    "    row_match_dict = list(matches_dict.values())\n",
    "    \n",
    "    subjects_list = []\n",
    "\n",
    "    for num in range(len(col_match_dict)):\n",
    "        subjects_list.extend(df[col_match_dict[num]].loc[row_match_dict[num]])\n",
    "    \n",
    "    return subjects_list"
   ]
  },
  {
   "cell_type": "code",
   "execution_count": null,
   "metadata": {},
   "outputs": [],
   "source": [
    "subjects_list = []\n",
    "\n",
    "for df in subjects_df_list:\n",
    "    subjects_list.append(get_subjects(df))\n",
    "\n",
    "subjects_list"
   ]
  },
  {
   "cell_type": "code",
   "execution_count": null,
   "metadata": {
    "scrolled": true
   },
   "outputs": [],
   "source": [
    "subjects_list_to_df = pd.DataFrame(subjects_list, index = continents).sort_index(axis=1)\n",
    "subjects_list_to_df = subjects_list_to_df.T\n",
    "subjects_list_to_df"
   ]
  },
  {
   "cell_type": "code",
   "execution_count": null,
   "metadata": {
    "scrolled": true
   },
   "outputs": [],
   "source": [
    "subjects_value_counts = subjects_list_to_df.apply(lambda x: x.value_counts()).fillna(0).astype(int)\n",
    "subjects_value_counts"
   ]
  },
  {
   "cell_type": "code",
   "execution_count": null,
   "metadata": {
    "scrolled": true
   },
   "outputs": [],
   "source": [
    "#subjects_df_columns =  ['África','América do Norte', 'América do Sul', 'Antártica', 'Ásia', 'Europa', 'Oceania']\n",
    "\n",
    "subjects_value_counts = subjects_value_counts[continents]\n",
    "subjects_df = subjects_value_counts.rename(index = subjects_dict)\n",
    "subjects_df\n",
    "\n",
    "# working directory\n",
    "p2 = os.getcwd() \n",
    "path = os.path.dirname(p2)\n",
    "wdir = os.path.join(path, \"db_generated/subjects\", \"\")\n",
    "\n",
    "subjects_df.to_csv(wdir + 'subject_counts_by_continent.csv')"
   ]
  },
  {
   "cell_type": "code",
   "execution_count": null,
   "metadata": {
    "scrolled": false
   },
   "outputs": [],
   "source": [
    "subjects_df = subjects_df.T\n",
    "subjects_df"
   ]
  },
  {
   "cell_type": "markdown",
   "metadata": {},
   "source": [
    "## Plotting charts"
   ]
  },
  {
   "cell_type": "markdown",
   "metadata": {},
   "source": [
    "### ***Documents Subjects by Each Continent***"
   ]
  },
  {
   "cell_type": "markdown",
   "metadata": {},
   "source": [
    "***Defining function***"
   ]
  },
  {
   "cell_type": "code",
   "execution_count": null,
   "metadata": {},
   "outputs": [],
   "source": [
    "def plot_subjects_by_continent(df, continents):\n",
    "    \"\"\"This function plots a line chart of subjects for each continent.\n",
    "    \n",
    "    Parameters\n",
    "    ----------\n",
    "        df : pandas DataFrame.\n",
    "            Dataframe containing subjects values count by continent.\n",
    "        colors : list of str\n",
    "            List of strings with color hex codes.\n",
    "        continents : list of str\n",
    "            List of strings with the continents' names\n",
    "        \n",
    "    Returns\n",
    "    -------\n",
    "        No value.\n",
    "    \n",
    "    \"\"\"    \n",
    "\n",
    "    for cont in continents:\n",
    "\n",
    "        plt.figure(figsize=(12, 5))\n",
    "\n",
    "        subjects_sorted = df.xs(cont).sort_values(ascending = False)\n",
    "        subjects_values = subjects_sorted[subjects_sorted > 0]\n",
    "        sbj_plot = subjects_values[:15].sort_values().plot(kind = 'barh', color = \"gray\", alpha = 0.8)\n",
    "\n",
    "        plt.xlabel('Quantidade de documentos', fontweight='bold')\n",
    "        \n",
    "        # Working directory\n",
    "        \n",
    "        p1 = os.getcwd() \n",
    "        path = os.path.dirname(p1)\n",
    "        wdir = os.path.join(path, \"plots/subjects\", \"\")\n",
    "\n",
    "        plt.tight_layout()\n",
    "        string2 = wdir + \"{}.png\".format(cont)\n",
    "        #plt.savefig(string2, dpi = 600, transparent = True)\n",
    "\n",
    "        plt.show()"
   ]
  },
  {
   "cell_type": "markdown",
   "metadata": {},
   "source": [
    "***Applying function***"
   ]
  },
  {
   "cell_type": "code",
   "execution_count": null,
   "metadata": {},
   "outputs": [],
   "source": [
    "plot_subjects_by_continent(subjects_df, continents)"
   ]
  },
  {
   "cell_type": "markdown",
   "metadata": {},
   "source": [
    "# LANGUAGE ANALYSIS"
   ]
  },
  {
   "cell_type": "markdown",
   "metadata": {},
   "source": [
    "## Organizing Data"
   ]
  },
  {
   "cell_type": "code",
   "execution_count": null,
   "metadata": {},
   "outputs": [],
   "source": [
    "# languages are attributed by ISO 639-1 codes\n",
    "\n",
    "# 38 languages in total\n",
    "\n",
    "lang_dict = {\n",
    "    \"af\" : \"Afrikaans\",\n",
    "    \"ar\" : \"Arabic\",\n",
    "    \"eu\" : \"Basque\",\n",
    "    \"bs\" : \"Bosnian\",\n",
    "    \"bg\" : \"Bulgarian\",\n",
    "    \"ca\" : \"Catalan\",\n",
    "    \"zh\" : \"Chinese\",\n",
    "    \"hr\" : \"Croatian\",\n",
    "    \"cs\" : \"Czech\",\n",
    "    \"da\" : \"Danish\",\n",
    "    \"nl\" : \"Dutch\",\n",
    "    \"en\" : \"English\",\n",
    "    \"fr\" : \"French\",\n",
    "    \"gl\" : \"Galician\",\n",
    "    \"de\" : \"German\",\n",
    "    \"el\" : \"Greek\",\n",
    "    \"hu\" : \"Hungarian\",\n",
    "    \"id\" : \"Indonesian\",\n",
    "    \"it\" : \"Italian\",\n",
    "    \"kn\" : \"Kannada\",\n",
    "    \"lt\" : \"Lithuanian\",\n",
    "    \"mk\" : \"Macedonian\",\n",
    "    \"ms\" : \"Malay\",\n",
    "    \"ml\" : \"Malayalam\",\n",
    "    \"mr\" : \"Marathi\",\n",
    "    \"ne\" : \"Nepali\",\n",
    "    'no' : \"Norwegian\",\n",
    "    \"fa\" : \"Persian\",\n",
    "    \"pl\" : \"Polish\",\n",
    "    \"pt\" : \"Portuguese\",\n",
    "    \"ro\" : \"Romanian\",\n",
    "    \"ru\" : \"Russian\",\n",
    "    \"sr\" : \"Serbian\",\n",
    "    \"sh\" : \"Serbo-croatian\",\n",
    "    \"sl\" : \"Slovenian\",\n",
    "    \"es\" : \"Spanish\",\n",
    "    \"tr\" : \"Turkish\",\n",
    "    \"uk\" : \"Ukrainian\"\n",
    "}\n",
    "    "
   ]
  },
  {
   "cell_type": "code",
   "execution_count": null,
   "metadata": {},
   "outputs": [],
   "source": [
    "lang_dict.values()"
   ]
  },
  {
   "cell_type": "code",
   "execution_count": null,
   "metadata": {
    "scrolled": true
   },
   "outputs": [],
   "source": [
    "lang_keys = list(lang_dict.keys())\n",
    "lang_keys"
   ]
  },
  {
   "cell_type": "code",
   "execution_count": null,
   "metadata": {},
   "outputs": [],
   "source": [
    "def get_languages(df):\n",
    "    \"\"\"This function gets all ISO 639-1 codes for language in DataFrame.\n",
    "    \n",
    "    Parameters\n",
    "    ----------\n",
    "        df : pandas DataFrame.\n",
    "            Dataframe containing subjects values count by continent.\n",
    "        \n",
    "    Returns\n",
    "    -------\n",
    "        languages_list : list\n",
    "            Returns a list containing all languages code found in df.\n",
    "    \n",
    "    \"\"\"   \n",
    "    \n",
    "    matches = df.isin(lang_keys).any()\n",
    "    \n",
    "    column_matches = matches.index[matches == True]\n",
    "    string = '_name.' #editors_name, creators_name\n",
    "    exclude_columns = [i for i in column_matches if string in i] \n",
    "    column_matches = column_matches.drop(exclude_columns)\n",
    "    # exclude editors_name family cuz they are talking about another stuff, like people's name \n",
    "    print(column_matches)\n",
    "    \n",
    "    matches_dict = dict.fromkeys(column_matches)\n",
    "    \n",
    "    for col in matches_dict.keys():\n",
    "        row_matches = df[col].isin(lang_keys)\n",
    "        matches_dict[col] = row_matches.index[row_matches == True]\n",
    "        \n",
    "    col_match_dict = list(matches_dict.keys())\n",
    "    row_match_dict = list(matches_dict.values())\n",
    "    \n",
    "    languages_list = []\n",
    "\n",
    "    for num in range(len(col_match_dict)):\n",
    "        languages_list.extend(df[col_match_dict[num]].loc[row_match_dict[num]])\n",
    "    \n",
    "    return languages_list"
   ]
  },
  {
   "cell_type": "code",
   "execution_count": null,
   "metadata": {
    "scrolled": true
   },
   "outputs": [],
   "source": [
    "# Opening dataframes and adding it to a list\n",
    "\n",
    "language_list_df = []\n",
    "\n",
    "for filename in filenames:\n",
    "    df_language = pd.read_csv(filename)\n",
    "    df_languages = pd.DataFrame(df_language)\n",
    "    language_list_df.append(df_languages) "
   ]
  },
  {
   "cell_type": "code",
   "execution_count": null,
   "metadata": {},
   "outputs": [],
   "source": [
    "# getting all the languages from dataframes\n",
    "\n",
    "languages_list = []\n",
    "\n",
    "for df in language_list_df:\n",
    "    languages_list.append(get_languages(df))\n",
    "\n",
    "languages_list"
   ]
  },
  {
   "cell_type": "code",
   "execution_count": null,
   "metadata": {
    "scrolled": true
   },
   "outputs": [],
   "source": [
    "# grouping languages by continent\n",
    "\n",
    "languages_dataset = pd.DataFrame(languages_list, index = continents).sort_index(axis=1)\n",
    "languages_dataset = languages_dataset.T\n",
    "languages_dataset"
   ]
  },
  {
   "cell_type": "code",
   "execution_count": null,
   "metadata": {
    "scrolled": true
   },
   "outputs": [],
   "source": [
    "# Languages values count\n",
    "\n",
    "languages_count = languages_dataset.apply(lambda x: x.value_counts()).fillna(0).astype(int)\n",
    "languages_count"
   ]
  },
  {
   "cell_type": "code",
   "execution_count": null,
   "metadata": {
    "scrolled": false
   },
   "outputs": [],
   "source": [
    "# Grouping languages counts by continent\n",
    "languages_df = languages_count.rename(index = lang_dict)\n",
    "languages_df = languages_df.sort_values(['Europa'], ascending = False).T\n",
    "languages_df"
   ]
  },
  {
   "cell_type": "code",
   "execution_count": null,
   "metadata": {
    "scrolled": true
   },
   "outputs": [],
   "source": [
    "# Worldwide Total sum for each language\n",
    "language_sum = languages_df.sum(axis=0)\n",
    "language_sum_df = pd.DataFrame(language_sum, columns = ['total'])\n",
    "language_sum_df = language_sum_df.sort_values(by = 'total', ascending = False)\n",
    "\n",
    "language_sum_df"
   ]
  },
  {
   "cell_type": "code",
   "execution_count": null,
   "metadata": {
    "scrolled": true
   },
   "outputs": [],
   "source": [
    "# Worldwide Total percentage for each language\n",
    "language_sum_df['Percentage'] = language_sum_df['total']/language_sum_df['total'].sum()\n",
    "language_sum_df = language_sum_df.round(2)\n",
    "language_sum_df"
   ]
  },
  {
   "cell_type": "markdown",
   "metadata": {},
   "source": [
    "## Plotting Charts"
   ]
  },
  {
   "cell_type": "code",
   "execution_count": null,
   "metadata": {},
   "outputs": [],
   "source": [
    "lang_colors_dict = { \n",
    "    \"Afrikaans\" : '#536872',\n",
    "    \"Arabic\" : '#009688',\n",
    "    \"Basque\" : '#e0301e',\n",
    "    \"Bosnian\" :'#ff48c4',\n",
    "    \"Bulgarian\" : '#eb8c00',\n",
    "    \"Catalan\" : '#c04df9',\n",
    "    \"Chinese\" : '#f37735',\n",
    "    \"Croatian\" : '#ffc425',\n",
    "    \"Czech\" : '#ffeead',\n",
    "    \"Danish\" : '#35a79c',\n",
    "    \"Dutch\" : '#00aedb',\n",
    "    \"English\" : '#6666ff',\n",
    "    \"French\" : '#fa7e1e',\n",
    "    \"Galician\" : '#585847',\n",
    "    \"German\" : '#feda75',\n",
    "    \"Greek\" : '#7e3227',\n",
    "    \"Hungarian\" : '#ff3f3f',\n",
    "    \"Indonesian\" : '#d11141',\n",
    "    \"Italian\" : '#b24d31',\n",
    "    \"Kannada\" : '#536878',\n",
    "    \"Lithuanian\" : '#d62976',\n",
    "    \"Macedonian\" : '#a32020',\n",
    "    \"Malay\" : '#4f5bd5',\n",
    "    \"Malayalam\" : '#88d8b0',\n",
    "    \"Marathi\" : '#2bd1fc',\n",
    "    \"Nepali\" : '#602320',\n",
    "    \"Norwegian\" : '#ff6f69',\n",
    "    \"Persian\" : '#f3ea5f',\n",
    "    \"Polish\" : '#708090',\n",
    "    \"Portuguese\" : '#66ff66',\n",
    "    \"Romanian\" : '#962fbf',\n",
    "    \"Russian\" : '#36454f',\n",
    "    \"Serbian\" : '#6e7f80',\n",
    "    \"Serbo-croatian\" : '#96ceb4',\n",
    "    \"Slovenian\" : '#dc6900',\n",
    "    \"Spanish\" : '#ff6666',\n",
    "    \"Turkish\" : '#9d7950',\n",
    "    \"Ukrainian\" : '#b31b1b'\n",
    "}"
   ]
  },
  {
   "cell_type": "code",
   "execution_count": null,
   "metadata": {},
   "outputs": [],
   "source": [
    "lang_colors_dict.keys()"
   ]
  },
  {
   "cell_type": "markdown",
   "metadata": {},
   "source": [
    "### ***Document Languages Worldwide***"
   ]
  },
  {
   "cell_type": "code",
   "execution_count": null,
   "metadata": {},
   "outputs": [],
   "source": [
    "lang_colors = ['#536872', '#009688', '#e0301e', '#ff48c4', '#eb8c00', '#c04df9', '#f37735', '#ffc425',\n",
    "               '#ffeead', '#35a79c', '#00aedb', '#54b2a9', '#fa7e1e', '#585847', '#feda75', '#7e3227',\n",
    "               '#ff3f3f', '#d11141', '#b24d31', '#536878', '#d62976', '#a32020', '#4f5bd5', '#88d8b0',\n",
    "               '#2bd1fc', '#602320', '#ff6f69', '#f3ea5f', '#708090', '#00b159', '#962fbf', '#36454f',\n",
    "               '#6e7f80', '#dc6900', '#ffcc5c', '#9d7950', '#b31b1b', '#96ceb4']\n",
    "\n",
    "lang_list = ['Afrikaans', 'Arabic', 'Basque', 'Bosnian', 'Bulgarian', 'Catalan', 'Chinese', 'Croatian', \n",
    "             'Czech', 'Danish', 'Dutch', 'English', 'French', 'Galician', 'German', 'Greek', 'Hungarian', \n",
    "             'Indonesian', 'Italian', 'Kannada', 'Lithuanian', 'Macedonian', 'Malay', 'Malayalam', 'Marathi', \n",
    "             'Nepali', 'Norwegian', 'Persian', 'Polish', 'Portuguese', 'Romanian', 'Russian', 'Serbian', \n",
    "             'Serbo-croatian', 'Slovenian', 'Spanish', 'Turkish', 'Ukrainian']\n",
    "\n",
    "color_zip = dict(zip(lang_list, lang_colors))"
   ]
  },
  {
   "cell_type": "code",
   "execution_count": null,
   "metadata": {},
   "outputs": [],
   "source": [
    "def plot_ww_language_circle(language_sum_df, list_color):\n",
    "    \"\"\"This function plots a circle chart of languages of documents worldwide.\n",
    "    \n",
    "    Parameters\n",
    "    ----------\n",
    "        language_sum_df : pandas DataFrame.\n",
    "            Dataframe containing languages values count worldwide.\n",
    "        list color : list of str\n",
    "            List of strings with color hex codes.\n",
    "    Returns\n",
    "    -------\n",
    "        No value.\n",
    "    \n",
    "    \"\"\"    \n",
    "    \n",
    "    # create data\n",
    "    lang_index = language_sum_df[:10].index\n",
    "    size = language_sum_df['total'][0:10].values\n",
    "    \n",
    "    plt.figure(figsize=(10, 5))\n",
    "\n",
    "    # the percentage on the plot refers only to the 10 languages considered for the plot.\n",
    "\n",
    "    plt.pie(size, labels = lang_index, colors = list_color, autopct='%1.1f%%', pctdistance = 0.85,\n",
    "           textprops=dict(color=\"black\"), startangle = 30)\n",
    "\n",
    "    # Create a circle for the center of the plot\n",
    "    my_circle = plt.Circle( (0,0), 0.7, color = 'white')\n",
    "    p = plt.gcf()\n",
    "    p.gca().add_artist(my_circle)\n",
    "    \n",
    "    # Working directory\n",
    "        \n",
    "    p2 = os.getcwd() \n",
    "    path = os.path.dirname(p2)\n",
    "    wdir = os.path.join(path, \"plots/language\", \"\")\n",
    "\n",
    "    # Save figure\n",
    "    plt.tight_layout()\n",
    "    #plt.savefig(wdir + \"language_ww_percentage.png\", dpi = 600, transparent = True)\n",
    "    plt.show()"
   ]
  },
  {
   "cell_type": "code",
   "execution_count": null,
   "metadata": {},
   "outputs": [],
   "source": [
    "plot_ww_language_circle(language_sum_df, Prism_10.hex_colors)"
   ]
  },
  {
   "cell_type": "markdown",
   "metadata": {},
   "source": [
    "### ***Document Languages Analysis for Each Continent***"
   ]
  },
  {
   "cell_type": "code",
   "execution_count": null,
   "metadata": {
    "scrolled": true
   },
   "outputs": [],
   "source": [
    "languages_df.columns"
   ]
  },
  {
   "cell_type": "code",
   "execution_count": null,
   "metadata": {},
   "outputs": [],
   "source": [
    "def plot_language_by_continent(languages_df):\n",
    "    \"\"\"This function plots a bar chart of languages of documents by each continent.\n",
    "    \n",
    "    Parameters\n",
    "    ----------\n",
    "        language_df : pandas DataFrame.\n",
    "            Dataframe containing languages values count by each continent.\n",
    "        colors : list of str\n",
    "            List of strings with color hex codes.\n",
    "            \n",
    "    Returns\n",
    "    -------\n",
    "        No value.\n",
    "    \n",
    "    \"\"\"    \n",
    "    for row in continents:\n",
    "        lang_ordered = languages_df.xs(row).sort_values(ascending = False)\n",
    "        #print(lang_ordered[lang_ordered > 0])\n",
    "        lang_value = lang_ordered[lang_ordered > 0]\n",
    "        #print(lang_value[:10])\n",
    "        lang_value[:10].sort_values().plot(kind = 'barh', color = \"gray\")\n",
    "        \n",
    "        # Working directory\n",
    "\n",
    "        p2 = os.getcwd() \n",
    "        path = os.path.dirname(p2)\n",
    "        wdir = os.path.join(path, \"plots/language\", \"\")\n",
    "\n",
    "        # Save figure\n",
    "        plt.tight_layout()\n",
    "        #plt.savefig(wdir + \"{}.png\".format(row), dpi = 600, transparent = True)\n",
    "\n",
    "        plt.show()"
   ]
  },
  {
   "cell_type": "code",
   "execution_count": null,
   "metadata": {},
   "outputs": [],
   "source": [
    "plot_language_by_continent(languages_df)"
   ]
  },
  {
   "cell_type": "markdown",
   "metadata": {},
   "source": [
    "# Fazer uma matriz de correlação assunto x ano"
   ]
  },
  {
   "cell_type": "markdown",
   "metadata": {},
   "source": [
    "__REFERÊNCIAS__\n",
    "\n",
    "BEAUTIFUL Soup Documentation. 2019. Disponível em: https://www.crummy.com/software/BeautifulSoup/bs4/doc/. Acesso em: 18 ago. 2019.<br><br>\n",
    "CSV File Reading and Writing. 2019. Disponível em: https://docs.python.org/2/library/csv.html. Acesso em: 18 ago. 2019.<br><br>\n",
    "MATPLOTLIB. 2019. Disponível em: https://matplotlib.org/. Acesso em: 18 ago. 2019.<br><br>\n",
    "NUMPY. 2019. Disponível em: https://numpy.org/. Acesso em: 18 ago. 2019.<br><br>\n",
    "PYTHON Data Analysis Library. 2019a. Disponível em: https://pandas.pydata.org/. Acesso em: Acesso em: 18 ago. 2019.<br><br>\n",
    "PYTHON Documentation. 2019b. Disponível em: https://www.python.org/doc/. Acesso em: 18 ago. 2019.<br><br>\n",
    "REQUESTS. Guia de início rápido. 2019. Disponível em: https://requests.readthedocs.io/pt_BR/latest/user/quickstart.html. Acesso em: 18 ago. 2019.<br><br>\n",
    "SELENIUMHQ Browser Automation. 2019. Disponível em: https://www.seleniumhq.org/. Acesso em: 18 ago. 2019.<br><br>\n",
    "URLIB3 Documentation. 2019. Disponível em: https://urllib3.readthedocs.io/en/1.4/. Acesso em: 18 ago. 2019."
   ]
  }
 ],
 "metadata": {
  "kernelspec": {
   "display_name": "Python 3",
   "language": "python",
   "name": "python3"
  },
  "language_info": {
   "codemirror_mode": {
    "name": "ipython",
    "version": 3
   },
   "file_extension": ".py",
   "mimetype": "text/x-python",
   "name": "python",
   "nbconvert_exporter": "python",
   "pygments_lexer": "ipython3",
   "version": "3.8.3"
  },
  "toc": {
   "base_numbering": 1,
   "nav_menu": {},
   "number_sections": true,
   "sideBar": true,
   "skip_h1_title": false,
   "title_cell": "Table of Contents",
   "title_sidebar": "Contents",
   "toc_cell": true,
   "toc_position": {
    "height": "733px",
    "left": "34px",
    "top": "111.133px",
    "width": "317.133px"
   },
   "toc_section_display": true,
   "toc_window_display": true
  }
 },
 "nbformat": 4,
 "nbformat_minor": 2
}
